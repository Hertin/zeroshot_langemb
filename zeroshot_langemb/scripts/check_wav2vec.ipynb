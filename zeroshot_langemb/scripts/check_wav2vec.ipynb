{
 "cells": [
  {
   "cell_type": "code",
   "execution_count": 36,
   "id": "blocked-tribune",
   "metadata": {},
   "outputs": [],
   "source": [
    "import os\n",
    "import torch\n",
    "import fairseq\n",
    "from fairseq.modules import GumbelVectorQuantizer\n",
    "if 'cd' not in globals():\n",
    "    os.chdir('..')\n",
    "    cd = True\n"
   ]
  },
  {
   "cell_type": "code",
   "execution_count": 37,
   "id": "stock-liberal",
   "metadata": {},
   "outputs": [],
   "source": [
    "wav2vec, wav2vec_cfg = fairseq.checkpoint_utils.load_model_ensemble(['wav2vec/wav2vec_small.pt'])"
   ]
  },
  {
   "cell_type": "code",
   "execution_count": 8,
   "id": "drawn-decimal",
   "metadata": {},
   "outputs": [],
   "source": [
    "model =  wav2vec[0]"
   ]
  },
  {
   "cell_type": "code",
   "execution_count": 13,
   "id": "fallen-edwards",
   "metadata": {},
   "outputs": [
    {
     "data": {
      "text/plain": [
       "320"
      ]
     },
     "execution_count": 13,
     "metadata": {},
     "output_type": "execute_result"
    }
   ],
   "source": [
    "model.quantizer.num_vars"
   ]
  },
  {
   "cell_type": "code",
   "execution_count": 19,
   "id": "auburn-protection",
   "metadata": {},
   "outputs": [
    {
     "data": {
      "text/plain": [
       "2"
      ]
     },
     "execution_count": 19,
     "metadata": {},
     "output_type": "execute_result"
    }
   ],
   "source": [
    "model.quantizer.groups"
   ]
  },
  {
   "cell_type": "code",
   "execution_count": 16,
   "id": "romantic-contact",
   "metadata": {},
   "outputs": [
    {
     "data": {
      "text/plain": [
       "torch.Size([1, 640, 128])"
      ]
     },
     "execution_count": 16,
     "metadata": {},
     "output_type": "execute_result"
    }
   ],
   "source": [
    "model.quantizer.vars.size()"
   ]
  },
  {
   "cell_type": "code",
   "execution_count": 52,
   "id": "demanding-fleet",
   "metadata": {},
   "outputs": [],
   "source": [
    "audio = torch.randn(2, 10000)"
   ]
  },
  {
   "cell_type": "code",
   "execution_count": 53,
   "id": "lyric-salon",
   "metadata": {},
   "outputs": [],
   "source": [
    "f = model.feature_extractor(audio).transpose(1, 2)"
   ]
  },
  {
   "cell_type": "code",
   "execution_count": null,
   "id": "drawn-reset",
   "metadata": {},
   "outputs": [],
   "source": []
  },
  {
   "cell_type": "code",
   "execution_count": 34,
   "id": "extensive-carter",
   "metadata": {},
   "outputs": [
    {
     "data": {
      "text/plain": [
       "{'num_vars': 640,\n",
       " 'code_perplexity': tensor(4.9826),\n",
       " 'prob_perplexity': tensor(369.7832, grad_fn=<SumBackward0>),\n",
       " 'temp': 2.0,\n",
       " 'x': tensor([[[ 0.0523, -0.0557,  0.0898,  ..., -0.0665,  0.0225,  0.0593],\n",
       "          [-0.1458,  0.0730,  0.3328,  ...,  0.1575,  0.3792,  0.0783],\n",
       "          [ 0.1437,  0.1912,  0.4458,  ...,  0.1274,  0.0856,  0.2498],\n",
       "          ...,\n",
       "          [ 0.3457, -0.0931, -0.0309,  ...,  0.6108,  0.2350,  0.2260],\n",
       "          [ 0.0655,  0.4626,  0.2725,  ..., -0.1536,  0.1635, -0.0526],\n",
       "          [ 0.0756,  0.1302,  0.1182,  ..., -0.0341,  0.2798, -0.0627]]],\n",
       "        grad_fn=<ViewBackward>)}"
      ]
     },
     "execution_count": 34,
     "metadata": {},
     "output_type": "execute_result"
    }
   ],
   "source": [
    "q = model.quantizer(f)\n",
    "q"
   ]
  },
  {
   "cell_type": "code",
   "execution_count": 35,
   "id": "spectacular-leather",
   "metadata": {},
   "outputs": [
    {
     "data": {
      "text/plain": [
       "tensor(4.9826)"
      ]
     },
     "execution_count": 35,
     "metadata": {},
     "output_type": "execute_result"
    }
   ],
   "source": [
    "q['code_perplexity']"
   ]
  },
  {
   "cell_type": "code",
   "execution_count": 47,
   "id": "reported-conservation",
   "metadata": {},
   "outputs": [
    {
     "data": {
      "text/plain": [
       "512"
      ]
     },
     "execution_count": 47,
     "metadata": {},
     "output_type": "execute_result"
    }
   ],
   "source": [
    "model.embed"
   ]
  },
  {
   "cell_type": "code",
   "execution_count": 44,
   "id": "utility-buyer",
   "metadata": {},
   "outputs": [],
   "source": [
    "vq = GumbelVectorQuantizer(\n",
    "    dim=model.embed,\n",
    "    num_vars=model.cfg.latent_vars,\n",
    "    temp=model.cfg.latent_temp,\n",
    "    groups=model.cfg.latent_groups,\n",
    "    combine_groups=False,\n",
    "    vq_dim=model.cfg.final_dim,\n",
    "    time_first=True,\n",
    ")"
   ]
  },
  {
   "cell_type": "code",
   "execution_count": 55,
   "id": "rubber-michael",
   "metadata": {},
   "outputs": [
    {
     "data": {
      "text/plain": [
       "{'num_vars': 640,\n",
       " 'code_perplexity': tensor(11.0501),\n",
       " 'prob_perplexity': tensor(601.1962, grad_fn=<SumBackward0>),\n",
       " 'temp': 2.0,\n",
       " 'x': tensor([[[0.9666, 0.6725, 0.7767,  ..., 0.5203, 0.1307, 0.3027],\n",
       "          [0.6809, 0.7242, 0.8165,  ..., 0.9558, 0.7774, 0.1392],\n",
       "          [0.4983, 0.8441, 0.0969,  ..., 0.2526, 0.4368, 0.8284],\n",
       "          ...,\n",
       "          [0.2042, 0.5790, 0.6596,  ..., 0.2189, 0.0719, 0.0449],\n",
       "          [0.9599, 0.7449, 0.5854,  ..., 0.6189, 0.2629, 0.4825],\n",
       "          [0.9998, 0.3339, 0.6949,  ..., 0.5752, 0.3326, 0.9932]],\n",
       " \n",
       "         [[0.5799, 0.1077, 0.0963,  ..., 0.7342, 0.8199, 0.0784],\n",
       "          [0.6574, 0.2049, 0.5405,  ..., 0.9150, 0.6552, 0.6104],\n",
       "          [0.9243, 0.5255, 0.1761,  ..., 0.2053, 0.4012, 0.9608],\n",
       "          ...,\n",
       "          [0.4831, 0.0083, 0.5897,  ..., 0.7978, 0.1023, 0.9766],\n",
       "          [0.6703, 0.3706, 0.1808,  ..., 0.1149, 0.5444, 0.4590],\n",
       "          [0.0100, 0.4877, 0.6562,  ..., 0.5031, 0.9376, 0.3419]]],\n",
       "        grad_fn=<ViewBackward>)}"
      ]
     },
     "execution_count": 55,
     "metadata": {},
     "output_type": "execute_result"
    }
   ],
   "source": [
    "r = vq(f)\n",
    "r"
   ]
  },
  {
   "cell_type": "code",
   "execution_count": 49,
   "id": "closing-valuation",
   "metadata": {},
   "outputs": [
    {
     "data": {
      "text/plain": [
       "320"
      ]
     },
     "execution_count": 49,
     "metadata": {},
     "output_type": "execute_result"
    }
   ],
   "source": [
    "model.cfg.latent_vars"
   ]
  },
  {
   "cell_type": "code",
   "execution_count": 43,
   "id": "norman-pension",
   "metadata": {},
   "outputs": [
    {
     "data": {
      "text/plain": [
       "(0, 256, 768)"
      ]
     },
     "execution_count": 43,
     "metadata": {},
     "output_type": "execute_result"
    }
   ],
   "source": [
    "model.cfg.latent_dim, model.cfg.final_dim, model.cfg.encoder_embed_dim"
   ]
  },
  {
   "cell_type": "code",
   "execution_count": 48,
   "id": "elementary-discipline",
   "metadata": {},
   "outputs": [
    {
     "data": {
      "text/plain": [
       "torch.Size([1, 31, 256])"
      ]
     },
     "execution_count": 48,
     "metadata": {},
     "output_type": "execute_result"
    }
   ],
   "source": [
    "q['x'].shape"
   ]
  },
  {
   "cell_type": "code",
   "execution_count": 50,
   "id": "fourth-caribbean",
   "metadata": {},
   "outputs": [
    {
     "data": {
      "text/plain": [
       "2"
      ]
     },
     "execution_count": 50,
     "metadata": {},
     "output_type": "execute_result"
    }
   ],
   "source": [
    "model.cfg.latent_groups"
   ]
  },
  {
   "cell_type": "code",
   "execution_count": 56,
   "id": "recognized-accordance",
   "metadata": {},
   "outputs": [
    {
     "data": {
      "text/plain": [
       "tensor(0.0606, grad_fn=<DivBackward0>)"
      ]
     },
     "execution_count": 56,
     "metadata": {},
     "output_type": "execute_result"
    }
   ],
   "source": [
    "(r['num_vars'] - r['prob_perplexity']) / r['num_vars']"
   ]
  },
  {
   "cell_type": "code",
   "execution_count": null,
   "id": "removed-brief",
   "metadata": {},
   "outputs": [],
   "source": []
  }
 ],
 "metadata": {
  "kernelspec": {
   "display_name": "Python 3",
   "language": "python",
   "name": "python3"
  },
  "language_info": {
   "codemirror_mode": {
    "name": "ipython",
    "version": 3
   },
   "file_extension": ".py",
   "mimetype": "text/x-python",
   "name": "python",
   "nbconvert_exporter": "python",
   "pygments_lexer": "ipython3",
   "version": "3.7.9"
  }
 },
 "nbformat": 4,
 "nbformat_minor": 5
}
