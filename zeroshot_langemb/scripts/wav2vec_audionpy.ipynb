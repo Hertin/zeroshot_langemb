{
 "cells": [
  {
   "cell_type": "code",
   "execution_count": 1,
   "id": "understanding-january",
   "metadata": {},
   "outputs": [],
   "source": [
    "import os\n",
    "import re\n",
    "import json\n",
    "import time\n",
    "import librosa\n",
    "import subprocess\n",
    "import shlex\n",
    "import torch\n",
    "import fairseq\n",
    "import numpy as np\n",
    "import soundfile as sf\n",
    "from tqdm import tqdm\n",
    "if 'cd' not in globals():\n",
    "    os.chdir('..')\n",
    "    cd = True\n"
   ]
  },
  {
   "cell_type": "code",
   "execution_count": 2,
   "id": "aggressive-cabin",
   "metadata": {},
   "outputs": [],
   "source": [
    "def get_lang(d):\n",
    "    s = d.split('_')[0]\n",
    "    s = re.sub(r'\\d+$', '', s.split('-')[0]) if re.search('[a-zA-Z]+', s) else s\n",
    "    return s"
   ]
  },
  {
   "cell_type": "code",
   "execution_count": null,
   "id": "periodic-provider",
   "metadata": {},
   "outputs": [],
   "source": []
  },
  {
   "cell_type": "code",
   "execution_count": 9,
   "id": "theoretical-chinese",
   "metadata": {},
   "outputs": [],
   "source": [
    "def line_count(filename):\n",
    "    return int(subprocess.check_output(['wc', '-l', filename]).split()[0])"
   ]
  },
  {
   "cell_type": "code",
   "execution_count": null,
   "id": "remarkable-treasure",
   "metadata": {},
   "outputs": [],
   "source": []
  },
  {
   "cell_type": "code",
   "execution_count": null,
   "id": "banner-projector",
   "metadata": {},
   "outputs": [],
   "source": [
    "split = 'dev'\n",
    "data_dir = 'data'\n",
    "wav_scp = f'{data_dir}/{split}/wav.scp'\n",
    "audio_folder = 'w2vaudio_wav'\n",
    "feat_folder = 'w2vaudio_npy'\n",
    "seen_utt = set()\n",
    "\n",
    "nline = line_count(wav_scp)\n",
    "\n",
    "with open(wav_scp, 'r') as f:\n",
    "    for l in tqdm(f, total=nline):\n",
    "        uttid, cmd = l.strip().strip('- |').split(' ', maxsplit=1)\n",
    "        audio_path = f'{audio_folder}/{uttid}.wav'\n",
    "        cmd = f' wav {audio_path} '.join(cmd.rsplit(' wav - ', maxsplit=1))\n",
    "        \n",
    "        if not os.path.isfile(audio_path):\n",
    "#             assert os.path.isfile(f'{feat_folder}/{uttid}.npy')\n",
    "#             continue\n",
    "        \n",
    "            process = subprocess.Popen(\n",
    "                cmd,\n",
    "                shell=True,\n",
    "                stdout=subprocess.PIPE, \n",
    "                stderr=subprocess.PIPE\n",
    "            )\n",
    "            stdout, stderr = process.communicate()\n",
    "            if stderr:\n",
    "                if 'WARN' in str(stderr):\n",
    "                    pass\n",
    "                else:\n",
    "                    assert False\n",
    "        \n",
    "        "
   ]
  },
  {
   "cell_type": "code",
   "execution_count": 30,
   "id": "latest-thought",
   "metadata": {},
   "outputs": [
    {
     "data": {
      "text/plain": [
       "'data/dev/segment'"
      ]
     },
     "execution_count": 30,
     "metadata": {},
     "output_type": "execute_result"
    }
   ],
   "source": [
    "segment_file"
   ]
  },
  {
   "cell_type": "code",
   "execution_count": null,
   "id": "integral-donor",
   "metadata": {},
   "outputs": [],
   "source": [
    "data/dev/seg"
   ]
  },
  {
   "cell_type": "code",
   "execution_count": 36,
   "id": "historical-breakdown",
   "metadata": {
    "scrolled": true,
    "tags": []
   },
   "outputs": [
    {
     "name": "stderr",
     "output_type": "stream",
     "text": [
      " 60%|██████    | 239208/396806 [21:29<06:59, 375.53it/s] /home/hertin/Software/miniconda3/envs/espnet-lowres/lib/python3.7/site-packages/librosa/core/audio.py:162: UserWarning: PySoundFile failed. Trying audioread instead.\n",
      "  warnings.warn(\"PySoundFile failed. Trying audioread instead.\")\n",
      "/home/hertin/Software/miniconda3/envs/espnet-lowres/lib/python3.7/site-packages/librosa/core/audio.py:162: UserWarning: PySoundFile failed. Trying audioread instead.\n",
      "  warnings.warn(\"PySoundFile failed. Trying audioread instead.\")\n",
      "/home/hertin/Software/miniconda3/envs/espnet-lowres/lib/python3.7/site-packages/librosa/core/audio.py:162: UserWarning: PySoundFile failed. Trying audioread instead.\n",
      "  warnings.warn(\"PySoundFile failed. Trying audioread instead.\")\n",
      "/home/hertin/Software/miniconda3/envs/espnet-lowres/lib/python3.7/site-packages/librosa/core/audio.py:162: UserWarning: PySoundFile failed. Trying audioread instead.\n",
      "  warnings.warn(\"PySoundFile failed. Trying audioread instead.\")\n",
      "/home/hertin/Software/miniconda3/envs/espnet-lowres/lib/python3.7/site-packages/librosa/core/audio.py:162: UserWarning: PySoundFile failed. Trying audioread instead.\n",
      "  warnings.warn(\"PySoundFile failed. Trying audioread instead.\")\n",
      "/home/hertin/Software/miniconda3/envs/espnet-lowres/lib/python3.7/site-packages/librosa/core/audio.py:162: UserWarning: PySoundFile failed. Trying audioread instead.\n",
      "  warnings.warn(\"PySoundFile failed. Trying audioread instead.\")\n",
      "/home/hertin/Software/miniconda3/envs/espnet-lowres/lib/python3.7/site-packages/librosa/core/audio.py:162: UserWarning: PySoundFile failed. Trying audioread instead.\n",
      "  warnings.warn(\"PySoundFile failed. Trying audioread instead.\")\n",
      "/home/hertin/Software/miniconda3/envs/espnet-lowres/lib/python3.7/site-packages/librosa/core/audio.py:162: UserWarning: PySoundFile failed. Trying audioread instead.\n",
      "  warnings.warn(\"PySoundFile failed. Trying audioread instead.\")\n",
      "/home/hertin/Software/miniconda3/envs/espnet-lowres/lib/python3.7/site-packages/librosa/core/audio.py:162: UserWarning: PySoundFile failed. Trying audioread instead.\n",
      "  warnings.warn(\"PySoundFile failed. Trying audioread instead.\")\n",
      "/home/hertin/Software/miniconda3/envs/espnet-lowres/lib/python3.7/site-packages/librosa/core/audio.py:162: UserWarning: PySoundFile failed. Trying audioread instead.\n",
      "  warnings.warn(\"PySoundFile failed. Trying audioread instead.\")\n",
      "/home/hertin/Software/miniconda3/envs/espnet-lowres/lib/python3.7/site-packages/librosa/core/audio.py:162: UserWarning: PySoundFile failed. Trying audioread instead.\n",
      "  warnings.warn(\"PySoundFile failed. Trying audioread instead.\")\n",
      "/home/hertin/Software/miniconda3/envs/espnet-lowres/lib/python3.7/site-packages/librosa/core/audio.py:162: UserWarning: PySoundFile failed. Trying audioread instead.\n",
      "  warnings.warn(\"PySoundFile failed. Trying audioread instead.\")\n",
      "/home/hertin/Software/miniconda3/envs/espnet-lowres/lib/python3.7/site-packages/librosa/core/audio.py:162: UserWarning: PySoundFile failed. Trying audioread instead.\n",
      "  warnings.warn(\"PySoundFile failed. Trying audioread instead.\")\n",
      "/home/hertin/Software/miniconda3/envs/espnet-lowres/lib/python3.7/site-packages/librosa/core/audio.py:162: UserWarning: PySoundFile failed. Trying audioread instead.\n",
      "  warnings.warn(\"PySoundFile failed. Trying audioread instead.\")\n",
      "/home/hertin/Software/miniconda3/envs/espnet-lowres/lib/python3.7/site-packages/librosa/core/audio.py:162: UserWarning: PySoundFile failed. Trying audioread instead.\n",
      "  warnings.warn(\"PySoundFile failed. Trying audioread instead.\")\n",
      "/home/hertin/Software/miniconda3/envs/espnet-lowres/lib/python3.7/site-packages/librosa/core/audio.py:162: UserWarning: PySoundFile failed. Trying audioread instead.\n",
      "  warnings.warn(\"PySoundFile failed. Trying audioread instead.\")\n",
      "/home/hertin/Software/miniconda3/envs/espnet-lowres/lib/python3.7/site-packages/librosa/core/audio.py:162: UserWarning: PySoundFile failed. Trying audioread instead.\n",
      "  warnings.warn(\"PySoundFile failed. Trying audioread instead.\")\n",
      " 60%|██████    | 239256/396806 [21:31<29:22, 89.41it/s] /home/hertin/Software/miniconda3/envs/espnet-lowres/lib/python3.7/site-packages/librosa/core/audio.py:162: UserWarning: PySoundFile failed. Trying audioread instead.\n",
      "  warnings.warn(\"PySoundFile failed. Trying audioread instead.\")\n",
      "/home/hertin/Software/miniconda3/envs/espnet-lowres/lib/python3.7/site-packages/librosa/core/audio.py:162: UserWarning: PySoundFile failed. Trying audioread instead.\n",
      "  warnings.warn(\"PySoundFile failed. Trying audioread instead.\")\n",
      "/home/hertin/Software/miniconda3/envs/espnet-lowres/lib/python3.7/site-packages/librosa/core/audio.py:162: UserWarning: PySoundFile failed. Trying audioread instead.\n",
      "  warnings.warn(\"PySoundFile failed. Trying audioread instead.\")\n",
      "/home/hertin/Software/miniconda3/envs/espnet-lowres/lib/python3.7/site-packages/librosa/core/audio.py:162: UserWarning: PySoundFile failed. Trying audioread instead.\n",
      "  warnings.warn(\"PySoundFile failed. Trying audioread instead.\")\n",
      "/home/hertin/Software/miniconda3/envs/espnet-lowres/lib/python3.7/site-packages/librosa/core/audio.py:162: UserWarning: PySoundFile failed. Trying audioread instead.\n",
      "  warnings.warn(\"PySoundFile failed. Trying audioread instead.\")\n",
      "/home/hertin/Software/miniconda3/envs/espnet-lowres/lib/python3.7/site-packages/librosa/core/audio.py:162: UserWarning: PySoundFile failed. Trying audioread instead.\n",
      "  warnings.warn(\"PySoundFile failed. Trying audioread instead.\")\n",
      "/home/hertin/Software/miniconda3/envs/espnet-lowres/lib/python3.7/site-packages/librosa/core/audio.py:162: UserWarning: PySoundFile failed. Trying audioread instead.\n",
      "  warnings.warn(\"PySoundFile failed. Trying audioread instead.\")\n",
      "/home/hertin/Software/miniconda3/envs/espnet-lowres/lib/python3.7/site-packages/librosa/core/audio.py:162: UserWarning: PySoundFile failed. Trying audioread instead.\n",
      "  warnings.warn(\"PySoundFile failed. Trying audioread instead.\")\n",
      "/home/hertin/Software/miniconda3/envs/espnet-lowres/lib/python3.7/site-packages/librosa/core/audio.py:162: UserWarning: PySoundFile failed. Trying audioread instead.\n",
      "  warnings.warn(\"PySoundFile failed. Trying audioread instead.\")\n",
      "/home/hertin/Software/miniconda3/envs/espnet-lowres/lib/python3.7/site-packages/librosa/core/audio.py:162: UserWarning: PySoundFile failed. Trying audioread instead.\n",
      "  warnings.warn(\"PySoundFile failed. Trying audioread instead.\")\n",
      "/home/hertin/Software/miniconda3/envs/espnet-lowres/lib/python3.7/site-packages/librosa/core/audio.py:162: UserWarning: PySoundFile failed. Trying audioread instead.\n",
      "  warnings.warn(\"PySoundFile failed. Trying audioread instead.\")\n",
      "/home/hertin/Software/miniconda3/envs/espnet-lowres/lib/python3.7/site-packages/librosa/core/audio.py:162: UserWarning: PySoundFile failed. Trying audioread instead.\n",
      "  warnings.warn(\"PySoundFile failed. Trying audioread instead.\")\n",
      "/home/hertin/Software/miniconda3/envs/espnet-lowres/lib/python3.7/site-packages/librosa/core/audio.py:162: UserWarning: PySoundFile failed. Trying audioread instead.\n",
      "  warnings.warn(\"PySoundFile failed. Trying audioread instead.\")\n",
      "/home/hertin/Software/miniconda3/envs/espnet-lowres/lib/python3.7/site-packages/librosa/core/audio.py:162: UserWarning: PySoundFile failed. Trying audioread instead.\n",
      "  warnings.warn(\"PySoundFile failed. Trying audioread instead.\")\n",
      "/home/hertin/Software/miniconda3/envs/espnet-lowres/lib/python3.7/site-packages/librosa/core/audio.py:162: UserWarning: PySoundFile failed. Trying audioread instead.\n",
      "  warnings.warn(\"PySoundFile failed. Trying audioread instead.\")\n",
      "/home/hertin/Software/miniconda3/envs/espnet-lowres/lib/python3.7/site-packages/librosa/core/audio.py:162: UserWarning: PySoundFile failed. Trying audioread instead.\n",
      "  warnings.warn(\"PySoundFile failed. Trying audioread instead.\")\n",
      "/home/hertin/Software/miniconda3/envs/espnet-lowres/lib/python3.7/site-packages/librosa/core/audio.py:162: UserWarning: PySoundFile failed. Trying audioread instead.\n",
      "  warnings.warn(\"PySoundFile failed. Trying audioread instead.\")\n",
      "/home/hertin/Software/miniconda3/envs/espnet-lowres/lib/python3.7/site-packages/librosa/core/audio.py:162: UserWarning: PySoundFile failed. Trying audioread instead.\n",
      "  warnings.warn(\"PySoundFile failed. Trying audioread instead.\")\n",
      "/home/hertin/Software/miniconda3/envs/espnet-lowres/lib/python3.7/site-packages/librosa/core/audio.py:162: UserWarning: PySoundFile failed. Trying audioread instead.\n",
      "  warnings.warn(\"PySoundFile failed. Trying audioread instead.\")\n",
      "/home/hertin/Software/miniconda3/envs/espnet-lowres/lib/python3.7/site-packages/librosa/core/audio.py:162: UserWarning: PySoundFile failed. Trying audioread instead.\n",
      "  warnings.warn(\"PySoundFile failed. Trying audioread instead.\")\n",
      "/home/hertin/Software/miniconda3/envs/espnet-lowres/lib/python3.7/site-packages/librosa/core/audio.py:162: UserWarning: PySoundFile failed. Trying audioread instead.\n",
      "  warnings.warn(\"PySoundFile failed. Trying audioread instead.\")\n",
      "/home/hertin/Software/miniconda3/envs/espnet-lowres/lib/python3.7/site-packages/librosa/core/audio.py:162: UserWarning: PySoundFile failed. Trying audioread instead.\n",
      "  warnings.warn(\"PySoundFile failed. Trying audioread instead.\")\n",
      "/home/hertin/Software/miniconda3/envs/espnet-lowres/lib/python3.7/site-packages/librosa/core/audio.py:162: UserWarning: PySoundFile failed. Trying audioread instead.\n",
      "  warnings.warn(\"PySoundFile failed. Trying audioread instead.\")\n",
      "/home/hertin/Software/miniconda3/envs/espnet-lowres/lib/python3.7/site-packages/librosa/core/audio.py:162: UserWarning: PySoundFile failed. Trying audioread instead.\n",
      "  warnings.warn(\"PySoundFile failed. Trying audioread instead.\")\n",
      "100%|██████████| 396806/396806 [45:57<00:00, 143.92it/s] \n"
     ]
    }
   ],
   "source": [
    "split = 'train'\n",
    "segment_file = f'{data_dir}/{split}/segments'\n",
    "nline = line_count(segment_file)\n",
    "sr = 16000\n",
    "# seen_utt = set()\n",
    "with open(segment_file, 'r') as f:\n",
    "    for l in tqdm(f, total=nline):\n",
    "        segid, audioid, start, end = l.split(' ')\n",
    "        start, end = float(start), float(end)\n",
    "        audio_path = f'{audio_folder}/{audioid}.wav'\n",
    "        feat_path = f'{feat_folder}/{segid}.npy'\n",
    "        if not os.path.isfile(feat_path):\n",
    "            feats, curr_sample_rate = librosa.load(audio_path, sr=sr, offset=start, duration=end-start)\n",
    "            assert curr_sample_rate == sr\n",
    "            if len(feats.shape) == 2:\n",
    "                feats = feats.mean(-1)\n",
    "                assert len(feats) != 2\n",
    "            np.save(feat_path, feats)\n",
    "\n",
    "        assert segid not in seen_utt\n",
    "        seen_utt.add(segid)"
   ]
  },
  {
   "cell_type": "code",
   "execution_count": null,
   "id": "handled-fields",
   "metadata": {},
   "outputs": [],
   "source": []
  },
  {
   "cell_type": "code",
   "execution_count": null,
   "id": "surprising-founder",
   "metadata": {},
   "outputs": [],
   "source": [
    "# extract audio "
   ]
  },
  {
   "cell_type": "code",
   "execution_count": 6,
   "id": "victorian-carter",
   "metadata": {},
   "outputs": [],
   "source": []
  },
  {
   "cell_type": "code",
   "execution_count": 11,
   "id": "first-boxing",
   "metadata": {},
   "outputs": [
    {
     "ename": "NameError",
     "evalue": "name 'split' is not defined",
     "output_type": "error",
     "traceback": [
      "\u001b[0;31m---------------------------------------------------------------------------\u001b[0m",
      "\u001b[0;31mNameError\u001b[0m                                 Traceback (most recent call last)",
      "\u001b[0;32m<ipython-input-11-4b4c1d02c6e3>\u001b[0m in \u001b[0;36m<module>\u001b[0;34m\u001b[0m\n\u001b[1;32m      1\u001b[0m \u001b[0mdata_dir\u001b[0m \u001b[0;34m=\u001b[0m \u001b[0;34m'data'\u001b[0m\u001b[0;34m\u001b[0m\u001b[0;34m\u001b[0m\u001b[0m\n\u001b[0;32m----> 2\u001b[0;31m \u001b[0mwav_scp\u001b[0m \u001b[0;34m=\u001b[0m \u001b[0;34mf'{data_dir}/{split}/wav.scp'\u001b[0m\u001b[0;34m\u001b[0m\u001b[0;34m\u001b[0m\u001b[0m\n\u001b[0m\u001b[1;32m      3\u001b[0m \u001b[0maudio_folder\u001b[0m \u001b[0;34m=\u001b[0m \u001b[0;34m'w2vaudio_wav'\u001b[0m\u001b[0;34m\u001b[0m\u001b[0;34m\u001b[0m\u001b[0m\n\u001b[1;32m      4\u001b[0m \u001b[0mfeat_folder\u001b[0m \u001b[0;34m=\u001b[0m \u001b[0;34m'w2vaudio_npy'\u001b[0m\u001b[0;34m\u001b[0m\u001b[0;34m\u001b[0m\u001b[0m\n\u001b[1;32m      5\u001b[0m \u001b[0;34m\u001b[0m\u001b[0m\n",
      "\u001b[0;31mNameError\u001b[0m: name 'split' is not defined"
     ]
    }
   ],
   "source": [
    "data_dir = 'data'\n",
    "\n",
    "audio_folder = 'w2vaudio_wav'\n",
    "feat_folder = 'w2vaudio_npy'\n",
    "\n",
    "eval_folders = [f for f in os.listdir('data') if 'eval' in f]\n",
    "seen_utt = set()\n",
    "for eval_folder in eval_folders:\n",
    "    wav_scp = f'{data_dir}/{eval_folder}/wav.scp'\n",
    "    with open(wav_scp, 'r') as f:\n",
    "        for l in tqdm(f, total=nline):\n",
    "            uttid, cmd = l.strip().strip('- |').split(' ', maxsplit=1)\n",
    "            audio_path = f'{audio_folder}/{uttid}.wav'\n",
    "            cmd = f' wav {audio_path} '.join(cmd.rsplit(' wav - ', maxsplit=1))\n",
    "\n",
    "            if not os.path.isfile(audio_path):\n",
    "    #             assert os.path.isfile(f'{feat_folder}/{uttid}.npy')\n",
    "    #             continue\n",
    "\n",
    "                process = subprocess.Popen(\n",
    "                    cmd,\n",
    "                    shell=True,\n",
    "                    stdout=subprocess.PIPE, \n",
    "                    stderr=subprocess.PIPE\n",
    "                )\n",
    "                stdout, stderr = process.communicate()\n",
    "                if stderr:\n",
    "                    if 'WARN' in str(stderr):\n",
    "                        pass\n",
    "                    else:\n",
    "                        assert False\n"
   ]
  },
  {
   "cell_type": "code",
   "execution_count": 12,
   "id": "prescription-syndication",
   "metadata": {},
   "outputs": [
    {
     "name": "stdout",
     "output_type": "stream",
     "text": [
      "eval_Czech\n"
     ]
    },
    {
     "name": "stderr",
     "output_type": "stream",
     "text": [
      "100%|██████████| 1400/1400 [01:55<00:00, 12.14it/s]\n"
     ]
    },
    {
     "name": "stdout",
     "output_type": "stream",
     "text": [
      "eval_206\n"
     ]
    },
    {
     "name": "stderr",
     "output_type": "stream",
     "text": [
      "100%|██████████| 10494/10494 [08:54<00:00, 19.62it/s] \n"
     ]
    },
    {
     "name": "stdout",
     "output_type": "stream",
     "text": [
      "eval_Spanish\n"
     ]
    },
    {
     "name": "stderr",
     "output_type": "stream",
     "text": [
      "100%|██████████| 450/450 [00:33<00:00, 13.37it/s]\n"
     ]
    },
    {
     "name": "stdout",
     "output_type": "stream",
     "text": [
      "eval_French\n"
     ]
    },
    {
     "name": "stderr",
     "output_type": "stream",
     "text": [
      "100%|██████████| 820/820 [00:58<00:00, 13.98it/s]\n"
     ]
    },
    {
     "name": "stdout",
     "output_type": "stream",
     "text": [
      "eval_101\n"
     ]
    },
    {
     "name": "stderr",
     "output_type": "stream",
     "text": [
      "100%|██████████| 9909/9909 [07:34<00:00, 21.82it/s] \n"
     ]
    },
    {
     "name": "stdout",
     "output_type": "stream",
     "text": [
      "eval_505\n"
     ]
    },
    {
     "name": "stderr",
     "output_type": "stream",
     "text": [
      "100%|██████████| 1004/1004 [00:36<00:00, 27.38it/s]\n"
     ]
    },
    {
     "name": "stdout",
     "output_type": "stream",
     "text": [
      "eval_Thai\n"
     ]
    },
    {
     "name": "stderr",
     "output_type": "stream",
     "text": [
      "100%|██████████| 194/194 [00:10<00:00, 17.68it/s]\n"
     ]
    },
    {
     "name": "stdout",
     "output_type": "stream",
     "text": [
      "eval_Croatian\n"
     ]
    },
    {
     "name": "stderr",
     "output_type": "stream",
     "text": [
      "100%|██████████| 446/446 [00:43<00:00, 10.27it/s]\n"
     ]
    },
    {
     "name": "stdout",
     "output_type": "stream",
     "text": [
      "eval_402\n"
     ]
    },
    {
     "name": "stderr",
     "output_type": "stream",
     "text": [
      "100%|██████████| 11260/11260 [09:53<00:00, 18.98it/s]\n"
     ]
    },
    {
     "name": "stdout",
     "output_type": "stream",
     "text": [
      "eval_Polish\n"
     ]
    },
    {
     "name": "stderr",
     "output_type": "stream",
     "text": [
      "100%|██████████| 865/865 [01:09<00:00, 12.42it/s]\n"
     ]
    },
    {
     "name": "stdout",
     "output_type": "stream",
     "text": [
      "eval_307\n"
     ]
    },
    {
     "name": "stderr",
     "output_type": "stream",
     "text": [
      "100%|██████████| 10285/10285 [08:40<00:00, 19.78it/s] \n"
     ]
    },
    {
     "name": "stdout",
     "output_type": "stream",
     "text": [
      "eval_Turkish\n"
     ]
    },
    {
     "name": "stderr",
     "output_type": "stream",
     "text": [
      "100%|██████████| 554/554 [00:46<00:00, 11.97it/s]\n"
     ]
    },
    {
     "name": "stdout",
     "output_type": "stream",
     "text": [
      "eval_German\n"
     ]
    },
    {
     "name": "stderr",
     "output_type": "stream",
     "text": [
      "100%|██████████| 763/763 [00:43<00:00, 17.41it/s]\n"
     ]
    },
    {
     "name": "stdout",
     "output_type": "stream",
     "text": [
      "eval_203\n"
     ]
    },
    {
     "name": "stderr",
     "output_type": "stream",
     "text": [
      "100%|██████████| 11342/11342 [08:48<00:00, 21.45it/s] \n"
     ]
    },
    {
     "name": "stdout",
     "output_type": "stream",
     "text": [
      "eval_103\n"
     ]
    },
    {
     "name": "stderr",
     "output_type": "stream",
     "text": [
      "100%|██████████| 10265/10265 [09:36<00:00, 17.80it/s]\n"
     ]
    },
    {
     "name": "stdout",
     "output_type": "stream",
     "text": [
      "eval_Mandarin\n"
     ]
    },
    {
     "name": "stderr",
     "output_type": "stream",
     "text": [
      "100%|██████████| 636/636 [00:49<00:00, 12.84it/s]\n"
     ]
    },
    {
     "name": "stdout",
     "output_type": "stream",
     "text": [
      "eval_Portuguese\n"
     ]
    },
    {
     "name": "stderr",
     "output_type": "stream",
     "text": [
      "100%|██████████| 494/494 [00:40<00:00, 12.35it/s]\n"
     ]
    },
    {
     "name": "stdout",
     "output_type": "stream",
     "text": [
      "eval_404\n"
     ]
    },
    {
     "name": "stderr",
     "output_type": "stream",
     "text": [
      "100%|██████████| 9125/9125 [08:25<00:00, 18.05it/s] \n"
     ]
    },
    {
     "name": "stdout",
     "output_type": "stream",
     "text": [
      "eval_Bulgarian\n"
     ]
    },
    {
     "name": "stderr",
     "output_type": "stream",
     "text": [
      "100%|██████████| 831/831 [01:00<00:00, 13.67it/s]\n"
     ]
    },
    {
     "name": "stdout",
     "output_type": "stream",
     "text": [
      "eval_107\n"
     ]
    },
    {
     "name": "stderr",
     "output_type": "stream",
     "text": [
      "100%|██████████| 9465/9465 [08:28<00:00, 18.62it/s] \n"
     ]
    }
   ],
   "source": [
    "seen_utt = set()\n",
    "for eval_folder in eval_folders:\n",
    "    print(eval_folder)\n",
    "    import time\n",
    "    time.sleep(1)\n",
    "    segment_file = f'{data_dir}/{eval_folder}/segments'\n",
    "    nline = line_count(segment_file)\n",
    "    sr = 16000\n",
    "    # seen_utt = set()\n",
    "    with open(segment_file, 'r') as f:\n",
    "        for l in tqdm(f, total=nline):\n",
    "            segid, audioid, start, end = l.split(' ')\n",
    "            start, end = float(start), float(end)\n",
    "            audio_path = f'{audio_folder}/{audioid}.wav'\n",
    "            feat_path = f'{feat_folder}/{segid}.npy'\n",
    "            if not os.path.isfile(feat_path):\n",
    "                feats, curr_sample_rate = librosa.load(audio_path, sr=sr, offset=start, duration=end-start)\n",
    "                assert curr_sample_rate == sr\n",
    "                if len(feats.shape) == 2:\n",
    "                    feats = feats.mean(-1)\n",
    "                    assert len(feats) != 2\n",
    "                np.save(feat_path, feats)\n",
    "\n",
    "            assert segid not in seen_utt\n",
    "            seen_utt.add(segid)"
   ]
  },
  {
   "cell_type": "code",
   "execution_count": null,
   "id": "leading-modern",
   "metadata": {},
   "outputs": [],
   "source": []
  },
  {
   "cell_type": "code",
   "execution_count": 42,
   "id": "inclusive-square",
   "metadata": {},
   "outputs": [],
   "source": [
    "split = 'dev'\n",
    "feat_folder = 'w2vaudio_npy'\n",
    "with open(f'dump/{split}/deltafalse/data.json', 'r') as f:\n",
    "    js = json.load(f)"
   ]
  },
  {
   "cell_type": "code",
   "execution_count": null,
   "id": "surprising-ivory",
   "metadata": {},
   "outputs": [],
   "source": [
    "for uttid, v in tqdm(js['utts'].items(), total=len(js['utts'])):\n",
    "    npy_file = f'{feat_folder}/{uttid}.npy'\n",
    "    assert 'shape' in v['input'][0]\n",
    "    assert 'feat' in v['input'][0]\n",
    "    v['input'][0]['feat'] = npy_file\n",
    "    v['input'][0]['filetype'] = 'npy'\n",
    "    shape = np.load(npy_file, mmap_mode='r').shape[0]\n",
    "    if type(shape) is int:\n",
    "        shape =(shape, 1)\n",
    "    elif len(shape) == 1:\n",
    "        shape = (shape[0], 1)\n",
    "    v['input'][0]['shape'] = shape\n"
   ]
  },
  {
   "cell_type": "code",
   "execution_count": null,
   "id": "federal-racing",
   "metadata": {},
   "outputs": [],
   "source": []
  },
  {
   "cell_type": "code",
   "execution_count": null,
   "id": "furnished-reality",
   "metadata": {},
   "outputs": [],
   "source": []
  },
  {
   "cell_type": "code",
   "execution_count": 16,
   "id": "distant-intention",
   "metadata": {},
   "outputs": [],
   "source": [
    "def convert_json_data(input_json_path):\n",
    "    \n",
    "    output_json_path = f'{input_json_path}.npy'\n",
    "    if os.path.isfile(output_json_path):\n",
    "        print(f'{output_json_path} already exists, skip')\n",
    "        return\n",
    "    with open(input_json_path, 'r') as fin:\n",
    "        js = json.load(fin)[\"utts\"]\n",
    "        for uttid, v in tqdm(js.items(), total=len(js)):\n",
    "            npy_file = f'{feat_folder}/{uttid}.npy'\n",
    "            assert 'shape' in v['input'][0]\n",
    "            assert 'feat' in v['input'][0]\n",
    "            v['input'][0]['feat'] = npy_file\n",
    "            v['input'][0]['filetype'] = 'npy'\n",
    "            shape = np.load(npy_file, mmap_mode='r').shape[0]\n",
    "            if type(shape) is int:\n",
    "                shape =(shape, 1)\n",
    "            elif len(shape) == 1:\n",
    "                shape = (shape[0], 1)\n",
    "            v['input'][0]['shape'] = shape\n",
    "        print(f'saving modified npy json {output_json_path}')\n",
    "        with open(output_json_path, 'w') as fout:\n",
    "            json.dump({'utts': js}, fout, indent=2)\n",
    "    "
   ]
  },
  {
   "cell_type": "code",
   "execution_count": 17,
   "id": "lucky-story",
   "metadata": {},
   "outputs": [
    {
     "name": "stderr",
     "output_type": "stream",
     "text": [
      "100%|██████████| 1400/1400 [00:01<00:00, 789.64it/s] \n"
     ]
    },
    {
     "name": "stdout",
     "output_type": "stream",
     "text": [
      "saving modified npy json dump/eval_Czech/deltafalse/data.json.npy\n"
     ]
    },
    {
     "name": "stderr",
     "output_type": "stream",
     "text": [
      "100%|██████████| 10494/10494 [03:17<00:00, 53.23it/s] \n"
     ]
    },
    {
     "name": "stdout",
     "output_type": "stream",
     "text": [
      "saving modified npy json dump/eval_206/deltafalse/data.json.npy\n"
     ]
    },
    {
     "name": "stderr",
     "output_type": "stream",
     "text": [
      "100%|██████████| 450/450 [00:08<00:00, 51.26it/s]\n",
      "  1%|▏         | 11/820 [00:00<00:08, 99.75it/s]"
     ]
    },
    {
     "name": "stdout",
     "output_type": "stream",
     "text": [
      "saving modified npy json dump/eval_Spanish/deltafalse/data.json.npy\n"
     ]
    },
    {
     "name": "stderr",
     "output_type": "stream",
     "text": [
      "100%|██████████| 820/820 [00:19<00:00, 42.90it/s]\n",
      "  0%|          | 0/9909 [00:00<?, ?it/s]"
     ]
    },
    {
     "name": "stdout",
     "output_type": "stream",
     "text": [
      "saving modified npy json dump/eval_French/deltafalse/data.json.npy\n"
     ]
    },
    {
     "name": "stderr",
     "output_type": "stream",
     "text": [
      "100%|██████████| 9909/9909 [10:17<00:00, 16.04it/s] \n"
     ]
    },
    {
     "name": "stdout",
     "output_type": "stream",
     "text": [
      "saving modified npy json dump/eval_101/deltafalse/data.json.npy\n"
     ]
    },
    {
     "name": "stderr",
     "output_type": "stream",
     "text": [
      "100%|██████████| 1004/1004 [00:04<00:00, 237.16it/s]\n",
      "  3%|▎         | 6/194 [00:00<00:03, 48.53it/s]"
     ]
    },
    {
     "name": "stdout",
     "output_type": "stream",
     "text": [
      "saving modified npy json dump/eval_505/deltafalse/data.json.npy\n"
     ]
    },
    {
     "name": "stderr",
     "output_type": "stream",
     "text": [
      "100%|██████████| 194/194 [00:01<00:00, 168.48it/s]\n",
      "  3%|▎         | 15/446 [00:00<00:02, 149.50it/s]"
     ]
    },
    {
     "name": "stdout",
     "output_type": "stream",
     "text": [
      "saving modified npy json dump/eval_Thai/deltafalse/data.json.npy\n"
     ]
    },
    {
     "name": "stderr",
     "output_type": "stream",
     "text": [
      "100%|██████████| 446/446 [00:03<00:00, 139.05it/s]\n",
      "  0%|          | 0/11260 [00:00<?, ?it/s]"
     ]
    },
    {
     "name": "stdout",
     "output_type": "stream",
     "text": [
      "saving modified npy json dump/eval_Croatian/deltafalse/data.json.npy\n"
     ]
    },
    {
     "name": "stderr",
     "output_type": "stream",
     "text": [
      "100%|██████████| 11260/11260 [02:27<00:00, 76.23it/s] \n"
     ]
    },
    {
     "name": "stdout",
     "output_type": "stream",
     "text": [
      "saving modified npy json dump/eval_402/deltafalse/data.json.npy\n"
     ]
    },
    {
     "name": "stderr",
     "output_type": "stream",
     "text": [
      "100%|██████████| 865/865 [00:28<00:00, 30.14it/s]\n",
      "  0%|          | 0/10285 [00:00<?, ?it/s]"
     ]
    },
    {
     "name": "stdout",
     "output_type": "stream",
     "text": [
      "saving modified npy json dump/eval_Polish/deltafalse/data.json.npy\n"
     ]
    },
    {
     "name": "stderr",
     "output_type": "stream",
     "text": [
      "100%|██████████| 10285/10285 [04:24<00:00, 38.87it/s] \n"
     ]
    },
    {
     "name": "stdout",
     "output_type": "stream",
     "text": [
      "saving modified npy json dump/eval_307/deltafalse/data.json.npy\n"
     ]
    },
    {
     "name": "stderr",
     "output_type": "stream",
     "text": [
      "100%|██████████| 554/554 [00:14<00:00, 39.01it/s]\n",
      "  0%|          | 3/763 [00:00<00:38, 19.65it/s]"
     ]
    },
    {
     "name": "stdout",
     "output_type": "stream",
     "text": [
      "saving modified npy json dump/eval_Turkish/deltafalse/data.json.npy\n"
     ]
    },
    {
     "name": "stderr",
     "output_type": "stream",
     "text": [
      "100%|██████████| 763/763 [00:24<00:00, 31.39it/s]\n"
     ]
    },
    {
     "name": "stdout",
     "output_type": "stream",
     "text": [
      "saving modified npy json dump/eval_German/deltafalse/data.json.npy\n"
     ]
    },
    {
     "name": "stderr",
     "output_type": "stream",
     "text": [
      "100%|██████████| 11342/11342 [04:08<00:00, 45.69it/s] \n"
     ]
    },
    {
     "name": "stdout",
     "output_type": "stream",
     "text": [
      "saving modified npy json dump/eval_203/deltafalse/data.json.npy\n"
     ]
    },
    {
     "name": "stderr",
     "output_type": "stream",
     "text": [
      "100%|██████████| 10265/10265 [03:29<00:00, 48.98it/s] \n"
     ]
    },
    {
     "name": "stdout",
     "output_type": "stream",
     "text": [
      "saving modified npy json dump/eval_103/deltafalse/data.json.npy\n"
     ]
    },
    {
     "name": "stderr",
     "output_type": "stream",
     "text": [
      "100%|██████████| 636/636 [00:18<00:00, 33.62it/s]\n",
      "  1%|          | 3/494 [00:00<00:20, 23.51it/s]"
     ]
    },
    {
     "name": "stdout",
     "output_type": "stream",
     "text": [
      "saving modified npy json dump/eval_Mandarin/deltafalse/data.json.npy\n"
     ]
    },
    {
     "name": "stderr",
     "output_type": "stream",
     "text": [
      "100%|██████████| 494/494 [00:19<00:00, 25.86it/s]\n"
     ]
    },
    {
     "name": "stdout",
     "output_type": "stream",
     "text": [
      "saving modified npy json dump/eval_Portuguese/deltafalse/data.json.npy\n"
     ]
    },
    {
     "name": "stderr",
     "output_type": "stream",
     "text": [
      "100%|██████████| 9125/9125 [03:46<00:00, 40.36it/s] \n"
     ]
    },
    {
     "name": "stdout",
     "output_type": "stream",
     "text": [
      "saving modified npy json dump/eval_404/deltafalse/data.json.npy\n"
     ]
    },
    {
     "name": "stderr",
     "output_type": "stream",
     "text": [
      "100%|██████████| 831/831 [00:26<00:00, 31.88it/s]\n"
     ]
    },
    {
     "name": "stdout",
     "output_type": "stream",
     "text": [
      "saving modified npy json dump/eval_Bulgarian/deltafalse/data.json.npy\n"
     ]
    },
    {
     "name": "stderr",
     "output_type": "stream",
     "text": [
      "100%|██████████| 9465/9465 [03:38<00:00, 43.35it/s] \n"
     ]
    },
    {
     "name": "stdout",
     "output_type": "stream",
     "text": [
      "saving modified npy json dump/eval_107/deltafalse/data.json.npy\n"
     ]
    }
   ],
   "source": [
    "eval_folders = [f for f in os.listdir('data') if 'eval' in f]\n",
    "feat_folder = 'w2vaudio_npy'\n",
    "for eval_folder in eval_folders:\n",
    "    input_json_path = f'dump/{eval_folder}/deltafalse/data.json'\n",
    "    convert_json_data(input_json_path)\n",
    "#     with open(f'dump/{eval_folder}/deltafalse/data.json', 'r') as fin:\n",
    "#         js = json.load(fin)[\"utts\"]\n",
    "#         feat_folder = args.wav2vec_feat_folder\n",
    "#         for uttid, v in js.items():\n",
    "#             npy_file = f'{feat_folder}/{uttid}.npy'\n",
    "#             assert 'shape' in v['input'][0]\n",
    "#             assert 'feat' in v['input'][0]\n",
    "#             v['input'][0]['feat'] = npy_file\n",
    "#             v['input'][0]['filetype'] = 'npy'\n",
    "#             shape = np.load(npy_file, mmap_mode='r').shape[0]\n",
    "#             if type(shape) is int:\n",
    "#                 shape =(shape, 1)\n",
    "#             elif len(shape) == 1:\n",
    "#                 shape = (shape[0], 1)\n",
    "#             v['input'][0]['shape'] = shape\n",
    "#         logging.warning(f'saving modified npy json {json_path}')\n",
    "#         with open(f'dump/{eval_folder}/deltafalse/data.json.npy', 'w') as fout:\n",
    "#             json.dump({'utts': js}, fout, indent=2)\n",
    "#     json.dump(js, f, indent=2)\n",
    "#     with open(f'dump/{eval_folder}/deltafalse/data.json.npy', 'w') as f:\n",
    "#         json.dump(js, f, indent=2)"
   ]
  },
  {
   "cell_type": "code",
   "execution_count": 13,
   "id": "figured-coffee",
   "metadata": {},
   "outputs": [],
   "source": []
  },
  {
   "cell_type": "code",
   "execution_count": null,
   "id": "collected-windsor",
   "metadata": {},
   "outputs": [],
   "source": []
  },
  {
   "cell_type": "code",
   "execution_count": null,
   "id": "little-bacteria",
   "metadata": {},
   "outputs": [],
   "source": []
  },
  {
   "cell_type": "code",
   "execution_count": null,
   "id": "supposed-arrest",
   "metadata": {},
   "outputs": [],
   "source": [
    "\n",
    "feat_folder = 'w2vaudio_npy'\n",
    "with open(f'dump/{split}/deltafalse/data.json', 'r') as f:\n",
    "    js = json.load(f)"
   ]
  },
  {
   "cell_type": "code",
   "execution_count": null,
   "id": "automated-pressure",
   "metadata": {},
   "outputs": [],
   "source": []
  },
  {
   "cell_type": "code",
   "execution_count": null,
   "id": "atlantic-stretch",
   "metadata": {},
   "outputs": [],
   "source": []
  },
  {
   "cell_type": "code",
   "execution_count": null,
   "id": "modular-institution",
   "metadata": {},
   "outputs": [],
   "source": []
  },
  {
   "cell_type": "code",
   "execution_count": null,
   "id": "thirty-glenn",
   "metadata": {},
   "outputs": [],
   "source": []
  },
  {
   "cell_type": "code",
   "execution_count": 11,
   "id": "every-sleeve",
   "metadata": {},
   "outputs": [
    {
     "data": {
      "text/plain": [
       "'/home/hertin/Workplace/SST/low-resource/espnet/tools/kaldi/tools/sph2pipe_v2.5/sph2pipe -f wav -p -c 1 /home/hertin/Workplace/SST/low-resource/espnet/egs/low-resource-language/asr1-cross/data/107/data/raw_train_data/audio/BABEL_BP_107_10033_20120208_180820_outLine.sph'"
      ]
     },
     "execution_count": 11,
     "metadata": {},
     "output_type": "execute_result"
    }
   ],
   "source": [
    "cmd.split(' | sox -R -t wav - -t wav - rate 16000 dither')[0]"
   ]
  },
  {
   "cell_type": "code",
   "execution_count": 9,
   "id": "facial-saudi",
   "metadata": {},
   "outputs": [
    {
     "data": {
      "text/plain": [
       "b'sox WARN rate: rate clipped 84 samples; decrease volume?\\nsox WARN dither: dither clipped 71 samples; decrease volume?\\n'"
      ]
     },
     "execution_count": 9,
     "metadata": {},
     "output_type": "execute_result"
    }
   ],
   "source": [
    "stderr"
   ]
  },
  {
   "cell_type": "code",
   "execution_count": 15,
   "id": "sharp-remark",
   "metadata": {},
   "outputs": [
    {
     "name": "stderr",
     "output_type": "stream",
     "text": [
      "100%|██████████| 830/830 [00:15<00:00, 52.35it/s]\n",
      "100%|██████████| 1260/1260 [00:24<00:00, 51.68it/s]\n",
      "100%|██████████| 724/724 [00:12<00:00, 57.96it/s]\n"
     ]
    }
   ],
   "source": [
    "seen_utt = set()\n",
    "for lang in all_langs:\n",
    "    data_dir = lang2data[lang]\n",
    "    nline = line_count(f'{data_dir}/wav.scp')\n",
    "    \n",
    "    with open(f'{data_dir}/wav.scp', 'r') as f:\n",
    "        for l in tqdm(f, total=nline):\n",
    "            # BG051_UTT001 shorten -x /home/hertin/Workplace/SST/dataset/babel/S0319/Bulgarian/adc/051/BG051_1.adc.shn - | sox -t raw -r 16000 -b 16 -e signed-integer - -t wav - |\n",
    "            uttid, cmd = l.strip().strip('- |').split(' ', maxsplit=1)\n",
    "            audio_path = f'{audio_folder}/{uttid}.wav'\n",
    "            if os.isfile(audio_path):\n",
    "                assert os.isfile(f'{feat_folder}/{uttid}.npy')\n",
    "                continue\n",
    "\n",
    "            feats, curr_sample_rate = sf.read(audio_path)\n",
    "            if len(feats.shape) == 2:\n",
    "                feats = feats.mean(-1)\n",
    "\n",
    "            np.save(f'{feat_folder}/{uttid}.npy', feats)\n",
    "\n",
    "            assert uttid not in seen_utt\n",
    "            seen_utt.add(uttid)"
   ]
  },
  {
   "cell_type": "code",
   "execution_count": null,
   "id": "included-transaction",
   "metadata": {},
   "outputs": [],
   "source": []
  },
  {
   "cell_type": "code",
   "execution_count": null,
   "id": "opposed-breath",
   "metadata": {},
   "outputs": [
    {
     "name": "stderr",
     "output_type": "stream",
     "text": [
      "  0%|          | 0/1400 [00:00<?, ?it/s]"
     ]
    },
    {
     "name": "stdout",
     "output_type": "stream",
     "text": [
      "data/eval_Czech\n"
     ]
    },
    {
     "name": "stderr",
     "output_type": "stream",
     "text": [
      "100%|██████████| 1400/1400 [00:39<00:00, 35.41it/s]\n",
      "  0%|          | 2/820 [00:00<01:03, 12.85it/s]"
     ]
    },
    {
     "name": "stdout",
     "output_type": "stream",
     "text": [
      "data/eval_French\n"
     ]
    },
    {
     "name": "stderr",
     "output_type": "stream",
     "text": [
      "100%|██████████| 820/820 [00:39<00:00, 20.62it/s]\n",
      "  0%|          | 0/446 [00:00<?, ?it/s]"
     ]
    },
    {
     "name": "stdout",
     "output_type": "stream",
     "text": [
      "data/eval_Croatian\n"
     ]
    },
    {
     "name": "stderr",
     "output_type": "stream",
     "text": [
      "100%|██████████| 446/446 [00:11<00:00, 38.44it/s]\n",
      "  0%|          | 3/865 [00:00<00:30, 27.91it/s]"
     ]
    },
    {
     "name": "stdout",
     "output_type": "stream",
     "text": [
      "data/eval_Polish\n"
     ]
    },
    {
     "name": "stderr",
     "output_type": "stream",
     "text": [
      "100%|██████████| 865/865 [00:31<00:00, 27.61it/s]\n",
      "  0%|          | 2/763 [00:00<00:43, 17.61it/s]"
     ]
    },
    {
     "name": "stdout",
     "output_type": "stream",
     "text": [
      "data/eval_German\n"
     ]
    },
    {
     "name": "stderr",
     "output_type": "stream",
     "text": [
      " 29%|██▉       | 225/763 [00:09<00:46, 11.51it/s]"
     ]
    }
   ],
   "source": [
    "seen_utt = set()\n",
    "data_dir = 'data'\n",
    "audio_folder = 'w2vaudio_test_wav'\n",
    "feat_folder = 'w2vaudio_npy'\n",
    "for folder in os.listdir(data_dir):\n",
    "    \n",
    "    if 'eval' in folder:\n",
    "        lang_dir = f'{data_dir}/{folder}'\n",
    "        print(lang_dir)\n",
    "        nline = line_count(f'{lang_dir}/wav.scp')\n",
    "    \n",
    "        with open(f'{lang_dir}/wav.scp', 'r') as f:\n",
    "            for l in tqdm(f, total=nline):\n",
    "                # BG051_UTT001 shorten -x /home/hertin/Workplace/SST/dataset/babel/S0319/Bulgarian/adc/051/BG051_1.adc.shn - | sox -t raw -r 16000 -b 16 -e signed-integer - -t wav - |\n",
    "                uttid, cmd = l.strip().strip('- |').split(' ', maxsplit=1)\n",
    "                cmd = cmd.split(' - | sox -R -t wav - -t wav')[0]\n",
    "                audio_path = f'{audio_folder}/{uttid}.wav'\n",
    "                cmd = f'{cmd} {audio_path}'\n",
    "\n",
    "                process = subprocess.Popen(\n",
    "                    cmd,\n",
    "                    shell=True,\n",
    "                    stdout=subprocess.PIPE, \n",
    "                    stderr=subprocess.PIPE\n",
    "                )\n",
    "                stdout, stderr = process.communicate()\n",
    "                if stderr:\n",
    "                    assert False\n",
    "#                 print(stdout, stderr)\n",
    "                \n",
    "                feats, curr_sample_rate = sf.read(audio_path)\n",
    "                if len(feats.shape) == 2:\n",
    "                    feats = feats.mean(-1)\n",
    "\n",
    "                np.save(f'{feat_folder}/{uttid}.npy', feats)\n",
    "\n",
    "                assert uttid not in seen_utt\n",
    "                seen_utt.add(uttid)\n"
   ]
  },
  {
   "cell_type": "code",
   "execution_count": 18,
   "id": "comfortable-catalyst",
   "metadata": {},
   "outputs": [
    {
     "data": {
      "text/plain": [
       "'shorten -x /home/hertin/Workplace/SST/dataset/babel/S0319/Bulgarian/adc/040/BG040_1.adc.shn - | sox -t raw -r 16000 -b 16 -e signed-integer - -t wav - w2vaudio_test_wav/BG040_UTT001.wav'"
      ]
     },
     "execution_count": 18,
     "metadata": {},
     "output_type": "execute_result"
    }
   ],
   "source": [
    "cmd"
   ]
  },
  {
   "cell_type": "code",
   "execution_count": null,
   "id": "hired-richardson",
   "metadata": {},
   "outputs": [],
   "source": [
    "sox -t raw -r 16000 -b 16 -e signed-integer - -t wav - | sox -R -t wav - -t wav - rate 16000 dither"
   ]
  },
  {
   "cell_type": "code",
   "execution_count": null,
   "id": "american-adoption",
   "metadata": {},
   "outputs": [],
   "source": []
  },
  {
   "cell_type": "code",
   "execution_count": null,
   "id": "engaged-major",
   "metadata": {},
   "outputs": [],
   "source": [
    "for folder in os.listdir(data_dir):\n",
    "    \n",
    "    if 'eval' in folder:\n",
    "        lang_dir = f'{data_dir}/{folder}'\n",
    "        print(lang_dir)\n",
    "        nline = line_count(f'{lang_dir}/wav.scp')\n",
    "    \n",
    "        with open(f'{lang_dir}/wav.scp', 'r') as f:\n",
    "            for l in tqdm(f, total=nline):\n",
    "                # BG051_UTT001 shorten -x /home/hertin/Workplace/SST/dataset/babel/S0319/Bulgarian/adc/051/BG051_1.adc.shn - | sox -t raw -r 16000 -b 16 -e signed-integer - -t wav - |\n",
    "                uttid, cmd = l.strip().strip('- |').split(' ', maxsplit=1)\n",
    "                audio_path = f'{audio_folder}/{uttid}.wav'\n",
    "                feats, curr_sample_rate = sf.read(audio_path)\n",
    "                if len(feats.shape) == 2:\n",
    "                    feats = feats.mean(-1)\n",
    "\n",
    "                np.save(f'{feat_folder}/{uttid}.npy', feats)\n",
    "\n",
    "                assert uttid not in seen_utt\n",
    "                seen_utt.add(uttid)"
   ]
  },
  {
   "cell_type": "code",
   "execution_count": null,
   "id": "chemical-rabbit",
   "metadata": {},
   "outputs": [],
   "source": []
  },
  {
   "cell_type": "code",
   "execution_count": null,
   "id": "green-romance",
   "metadata": {},
   "outputs": [],
   "source": []
  },
  {
   "cell_type": "code",
   "execution_count": 49,
   "id": "seven-david",
   "metadata": {},
   "outputs": [
    {
     "data": {
      "text/plain": [
       "'w2vfeat_npy/CZ009_UTT140.npy'"
      ]
     },
     "execution_count": 49,
     "metadata": {},
     "output_type": "execute_result"
    }
   ],
   "source": [
    "f'{feat_folder}/{uttid}.npy'"
   ]
  },
  {
   "cell_type": "code",
   "execution_count": 52,
   "id": "documented-stationery",
   "metadata": {},
   "outputs": [
    {
     "data": {
      "text/plain": [
       "(512, 649)"
      ]
     },
     "execution_count": 52,
     "metadata": {},
     "output_type": "execute_result"
    }
   ],
   "source": [
    "np.load(f'{feat_folder}/{uttid}.npy', mmap_mode='r').shape[1:]"
   ]
  },
  {
   "cell_type": "code",
   "execution_count": 58,
   "id": "conservative-depth",
   "metadata": {},
   "outputs": [
    {
     "data": {
      "text/plain": [
       "torch.Size([649, 512])"
      ]
     },
     "execution_count": 58,
     "metadata": {},
     "output_type": "execute_result"
    }
   ],
   "source": [
    "z.squeeze(0).T.shape"
   ]
  },
  {
   "cell_type": "code",
   "execution_count": 56,
   "id": "collaborative-nation",
   "metadata": {},
   "outputs": [
    {
     "data": {
      "text/plain": [
       "torch.Size([512, 649])"
      ]
     },
     "execution_count": 56,
     "metadata": {},
     "output_type": "execute_result"
    }
   ],
   "source": [
    "z.squeeze(0).shape\n"
   ]
  },
  {
   "cell_type": "code",
   "execution_count": 23,
   "id": "distributed-mason",
   "metadata": {},
   "outputs": [
    {
     "name": "stdout",
     "output_type": "stream",
     "text": [
      "cost 0.011581659317016602 s\n"
     ]
    }
   ],
   "source": [
    "cp_path = '/home/hertin/Workplace/SST/low-resource/fairseq/examples/wav2vec/scripts/xlsr_53_56k.pt'\n",
    "model, cfg, task = fairseq.checkpoint_utils.load_model_ensemble_and_task([cp_path])\n",
    "model = model[0]\n",
    "model.eval()\n",
    "device = torch.device('cuda:1')\n",
    "model = model.to(device)\n",
    "# wav_input_16khz = torch.randn(2,10000)\n",
    "start = time.time()\n",
    "wav_input = torch.from_numpy(audio).to(device).unsqueeze(0)\n",
    "\n",
    "z = model.feature_extractor(wav_input)\n",
    "feat = z.detach().cpu().numpy()\n",
    "end = time.time()\n",
    "print(f'cost {end-start} s')\n",
    "# c = model.feature_aggregator(z)"
   ]
  },
  {
   "cell_type": "code",
   "execution_count": 24,
   "id": "daily-dealing",
   "metadata": {},
   "outputs": [
    {
     "name": "stdout",
     "output_type": "stream",
     "text": [
      "cost 0.9544930458068848 s\n"
     ]
    }
   ],
   "source": [
    "cp_path = '/home/hertin/Workplace/SST/low-resource/fairseq/examples/wav2vec/scripts/xlsr_53_56k.pt'\n",
    "model, cfg, task = fairseq.checkpoint_utils.load_model_ensemble_and_task([cp_path])\n",
    "model = model[0]\n",
    "model.eval()\n",
    "\n",
    "# wav_input_16khz = torch.randn(2,10000)\n",
    "start = time.time()\n",
    "wav_input = torch.from_numpy(audio).unsqueeze(0)\n",
    "\n",
    "z = model.feature_extractor(wav_input)\n",
    "end = time.time()\n",
    "print(f'cost {end-start} s')\n",
    "# c = model.feature_aggregator(z)"
   ]
  },
  {
   "cell_type": "code",
   "execution_count": 48,
   "id": "opposed-alexander",
   "metadata": {},
   "outputs": [
    {
     "data": {
      "text/plain": [
       "torch.Size([1, 512, 649])"
      ]
     },
     "execution_count": 48,
     "metadata": {},
     "output_type": "execute_result"
    }
   ],
   "source": [
    "z.size()"
   ]
  },
  {
   "cell_type": "code",
   "execution_count": null,
   "id": "arranged-dictionary",
   "metadata": {},
   "outputs": [],
   "source": []
  },
  {
   "cell_type": "code",
   "execution_count": null,
   "id": "furnished-mineral",
   "metadata": {},
   "outputs": [],
   "source": []
  },
  {
   "cell_type": "code",
   "execution_count": null,
   "id": "increasing-turkish",
   "metadata": {},
   "outputs": [],
   "source": []
  },
  {
   "cell_type": "code",
   "execution_count": null,
   "id": "religious-bristol",
   "metadata": {},
   "outputs": [],
   "source": []
  },
  {
   "cell_type": "code",
   "execution_count": null,
   "id": "colonial-picking",
   "metadata": {},
   "outputs": [],
   "source": []
  }
 ],
 "metadata": {
  "kernelspec": {
   "display_name": "Python 3",
   "language": "python",
   "name": "python3"
  },
  "language_info": {
   "codemirror_mode": {
    "name": "ipython",
    "version": 3
   },
   "file_extension": ".py",
   "mimetype": "text/x-python",
   "name": "python",
   "nbconvert_exporter": "python",
   "pygments_lexer": "ipython3",
   "version": "3.7.9"
  }
 },
 "nbformat": 4,
 "nbformat_minor": 5
}
