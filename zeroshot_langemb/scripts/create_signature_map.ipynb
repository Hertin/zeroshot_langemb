{
 "cells": [
  {
   "cell_type": "code",
   "execution_count": 1,
   "metadata": {},
   "outputs": [],
   "source": [
    "import pandas as pd\n",
    "import numpy as np\n",
    "import codecs\n",
    "import matplotlib.pyplot as plt\n",
    "from sklearn.metrics.pairwise import cosine_similarity"
   ]
  },
  {
   "cell_type": "code",
   "execution_count": 2,
   "metadata": {},
   "outputs": [
    {
     "name": "stdout",
     "output_type": "stream",
     "text": [
      "Index(['IPA_Number', 'Symbol', 'Symbol_Name', 'Description', 'Voicing',\n",
      "       'Place_of_Articulation', 'Manner_of_Articulation', 'Height', 'Backness',\n",
      "       'Rounding', 'Status', 'UCS_Code', 'AFII_Code'],\n",
      "      dtype='object')\n",
      "simultaneous postalveolar and velar\n"
     ]
    }
   ],
   "source": [
    "ipa_df = pd.read_csv('ipa-data.csv')\n",
    "print(ipa_df.columns)\n",
    "print(ipa_df.iloc[74,5])\n",
    "ipa_df.iloc[74,5] = \"postalveolar;velar\"\n",
    "ipa_symbols = list(ipa_df['Symbol'])"
   ]
  },
  {
   "cell_type": "code",
   "execution_count": 3,
   "metadata": {},
   "outputs": [],
   "source": [
    "train_units_path = 'data_phdist/lang_1char/train_units.txt'\n",
    "train_unit_file = codecs.open(train_units_path)\n",
    "# lines = train_unit_file.readlines()"
   ]
  },
  {
   "cell_type": "code",
   "execution_count": 4,
   "metadata": {},
   "outputs": [
    {
     "name": "stdout",
     "output_type": "stream",
     "text": [
      "<unk> Not Found\n",
      "<space> Not Found\n"
     ]
    }
   ],
   "source": [
    "attr_list = []\n",
    "symbols = []\n",
    "symbol2attr = {\n",
    "    '<blank>': ['<blank>'],\n",
    "    '<unk>': ['<unk>'],\n",
    "    '<space>': ['<space>'],\n",
    "    '<sos/eos>': ['<sos/eos>'],\n",
    "}\n",
    "with codecs.open(train_units_path) as train_unit_file:\n",
    "    for i, line in enumerate(train_unit_file):\n",
    "        symbol, _ = line.strip().split(' ')\n",
    "        symbols.append(symbol)\n",
    "        if symbol not in ipa_symbols:\n",
    "            print(symbol, 'Not Found')\n",
    "        else:\n",
    "            cur_df = ipa_df[ipa_df['Symbol']==symbol]\n",
    "            symbol_attrs = []\n",
    "            for attr_idx in [3, 4, 5, 6, 7, 8, 9]:\n",
    "                cur_attr = cur_df.iloc[0,attr_idx]\n",
    "                if isinstance(cur_attr, str):\n",
    "                    cur_attr = cur_attr.replace('(','').replace(')','')\n",
    "                    attrs = cur_attr.split(';') if ';' in cur_attr else [cur_attr]\n",
    "                    symbol_attrs.extend(attrs)\n",
    "            attr_list.extend(symbol_attrs)\n",
    "            symbol2attr[symbol] = symbol_attrs\n",
    "attr_list = list(set(attr_list))\n",
    "symbols = ['<blank>'] + symbols + ['<sos/eos>']"
   ]
  },
  {
   "cell_type": "code",
   "execution_count": 5,
   "metadata": {
    "scrolled": true
   },
   "outputs": [
    {
     "data": {
      "text/plain": [
       "['<blank>',\n",
       " '<unk>',\n",
       " '<space>',\n",
       " 'a',\n",
       " 'b',\n",
       " 'c',\n",
       " 'd',\n",
       " 'e',\n",
       " 'f',\n",
       " 'g',\n",
       " 'h',\n",
       " 'i',\n",
       " 'j',\n",
       " 'k',\n",
       " 'l',\n",
       " 'm',\n",
       " 'n',\n",
       " 'o',\n",
       " 'p',\n",
       " 'q',\n",
       " 'r',\n",
       " 's',\n",
       " 't',\n",
       " 'u',\n",
       " 'v',\n",
       " 'w',\n",
       " 'x',\n",
       " 'y',\n",
       " 'z',\n",
       " 'æ',\n",
       " 'ð',\n",
       " 'ø',\n",
       " 'ħ',\n",
       " 'ŋ',\n",
       " 'œ',\n",
       " 'ǀ',\n",
       " 'ǁ',\n",
       " 'ǃ',\n",
       " 'ɐ',\n",
       " 'ɑ',\n",
       " 'ɒ',\n",
       " 'ɓ',\n",
       " 'ɔ',\n",
       " 'ɕ',\n",
       " 'ɖ',\n",
       " 'ɗ',\n",
       " 'ə',\n",
       " 'ɚ',\n",
       " 'ɛ',\n",
       " 'ɜ',\n",
       " 'ɟ',\n",
       " 'ɠ',\n",
       " 'ɡ',\n",
       " 'ɣ',\n",
       " 'ɤ',\n",
       " 'ɥ',\n",
       " 'ɦ',\n",
       " 'ɨ',\n",
       " 'ɪ',\n",
       " 'ɬ',\n",
       " 'ɮ',\n",
       " 'ɯ',\n",
       " 'ɱ',\n",
       " 'ɲ',\n",
       " 'ɹ',\n",
       " 'ɻ',\n",
       " 'ɽ',\n",
       " 'ɾ',\n",
       " 'ʁ',\n",
       " 'ʂ',\n",
       " 'ʃ',\n",
       " 'ʈ',\n",
       " 'ʉ',\n",
       " 'ʊ',\n",
       " 'ʋ',\n",
       " 'ʎ',\n",
       " 'ʒ',\n",
       " 'ʔ',\n",
       " 'ʰ',\n",
       " 'ʱ',\n",
       " 'ʲ',\n",
       " 'ʷ',\n",
       " 'ʼ',\n",
       " 'ˈ',\n",
       " 'ː',\n",
       " '˥',\n",
       " '˦',\n",
       " '˧',\n",
       " '˨',\n",
       " '˩',\n",
       " '̃',\n",
       " '̝',\n",
       " '̤',\n",
       " 'β',\n",
       " '<sos/eos>']"
      ]
     },
     "execution_count": 5,
     "metadata": {},
     "output_type": "execute_result"
    }
   ],
   "source": [
    "symbols"
   ]
  },
  {
   "cell_type": "code",
   "execution_count": 6,
   "metadata": {
    "scrolled": true
   },
   "outputs": [
    {
     "data": {
      "text/plain": [
       "{'<blank>': ['<blank>'],\n",
       " '<unk>': ['<unk>'],\n",
       " '<space>': ['<space>'],\n",
       " '<sos/eos>': ['<sos/eos>'],\n",
       " 'a': ['open', 'front', 'unrounded'],\n",
       " 'b': ['voiced', 'bilabial', 'plosive'],\n",
       " 'c': ['voiceless', 'palatal', 'plosive'],\n",
       " 'd': ['voiced', 'dental', 'alveolar', 'plosive'],\n",
       " 'e': ['close-mid', 'front', 'unrounded'],\n",
       " 'f': ['voiceless', 'labiodental', 'fricative'],\n",
       " 'g': ['voiced', 'velar', 'plosive'],\n",
       " 'h': ['voiceless', 'glottal', 'fricative'],\n",
       " 'i': ['close', 'front', 'unrounded'],\n",
       " 'j': ['voiced', 'palatal', 'approximant'],\n",
       " 'k': ['voiceless', 'velar', 'plosive'],\n",
       " 'l': ['voiced', 'dental', 'alveolar', 'lateral approximant'],\n",
       " 'm': ['voiced', 'bilabial', 'nasal'],\n",
       " 'n': ['voiced', 'dental', 'alveolar', 'nasal'],\n",
       " 'o': ['close-mid', 'back', 'rounded'],\n",
       " 'p': ['voiceless', 'bilabial', 'plosive'],\n",
       " 'q': ['voiceless', 'uvular', 'plosive'],\n",
       " 'r': ['voiced', 'dental', 'alveolar', 'trill'],\n",
       " 's': ['voiceless', 'alveolar', 'fricative'],\n",
       " 't': ['voiceless', 'dental', 'alveolar', 'plosive'],\n",
       " 'u': ['close', 'back', 'rounded'],\n",
       " 'v': ['voiced', 'labiodental', 'fricative'],\n",
       " 'w': ['voiced', 'labial-velar', 'approximant'],\n",
       " 'x': ['voiceless', 'palatal', 'fricative'],\n",
       " 'y': ['close', 'front', 'rounded'],\n",
       " 'z': ['voiced', 'alveolar', 'fricative'],\n",
       " 'æ': ['near-open', 'front', 'unrounded'],\n",
       " 'ð': ['voiced', 'dental', 'fricative'],\n",
       " 'ø': ['close-mid', 'front', 'rounded'],\n",
       " 'ħ': ['voiceless', 'pharyngeal', 'fricative'],\n",
       " 'ŋ': ['voiced', 'velar', 'nasal'],\n",
       " 'œ': ['open-mid', 'front', 'rounded'],\n",
       " 'ǀ': ['dental', 'click'],\n",
       " 'ǁ': ['alveolar', 'lateral click'],\n",
       " 'ǃ': ['postalveolar', 'click'],\n",
       " 'ɐ': ['near-open', 'central'],\n",
       " 'ɑ': ['open', 'back', 'unrounded'],\n",
       " 'ɒ': ['open', 'back', 'rounded'],\n",
       " 'ɓ': ['voiced', 'bilabial', 'implosive'],\n",
       " 'ɔ': ['open-mid', 'back', 'rounded'],\n",
       " 'ɕ': ['voiceless', 'alveolo-palatal', 'fricative'],\n",
       " 'ɖ': ['voiced', 'retroflex', 'plosive'],\n",
       " 'ɗ': ['voiced', 'dental', 'alveolar', 'implosive'],\n",
       " 'ə': ['mid', 'central'],\n",
       " 'ɚ': ['R-coloured', 'mid', 'central'],\n",
       " 'ɛ': ['open-mid', 'front', 'unrounded'],\n",
       " 'ɜ': ['open-mid', 'central', 'unrounded'],\n",
       " 'ɟ': ['voiced', 'palatal', 'plosive'],\n",
       " 'ɠ': ['voiced', 'velar', 'implosive'],\n",
       " 'ɡ': ['voiced', 'velar', 'plosive'],\n",
       " 'ɣ': ['voiced', 'velar', 'fricative'],\n",
       " 'ɤ': ['close-mid', 'back', 'unrounded'],\n",
       " 'ɥ': ['voiced', 'labial-palatal', 'approximant'],\n",
       " 'ɦ': ['voiced', 'glottal', 'fricative'],\n",
       " 'ɨ': ['close', 'central', 'unrounded'],\n",
       " 'ɪ': ['near-close', 'near-front', 'unrounded'],\n",
       " 'ɬ': ['voiceless', 'dental', 'alveolar', 'lateral fricative'],\n",
       " 'ɮ': ['voiced', 'dental', 'alveolar', 'lateral fricative'],\n",
       " 'ɯ': ['close', 'back', 'unrounded'],\n",
       " 'ɱ': ['voiced', 'labiodental', 'nasal'],\n",
       " 'ɲ': ['voiced', 'palatal', 'nasal'],\n",
       " 'ɹ': ['voiced', 'dental', 'alveolar', 'approximant'],\n",
       " 'ɻ': ['voiced', 'retroflex', 'approximant'],\n",
       " 'ɽ': ['voiced', 'retroflex', 'flap'],\n",
       " 'ɾ': ['voiced', 'dental', 'alveolar', 'tap'],\n",
       " 'ʁ': ['voiced', 'uvular', 'fricative'],\n",
       " 'ʂ': ['voiceless', 'retroflex', 'fricative'],\n",
       " 'ʃ': ['voiceless', 'postalveolar', 'fricative'],\n",
       " 'ʈ': ['voiceless', 'retroflex', 'plosive'],\n",
       " 'ʉ': ['close', 'central', 'rounded'],\n",
       " 'ʊ': ['near-close', 'near-back', 'rounded'],\n",
       " 'ʋ': ['voiced', 'labiodental', 'approximant'],\n",
       " 'ʎ': ['voiced', 'palatal', 'lateral approximant'],\n",
       " 'ʒ': ['voiced', 'postalveolar', 'fricative'],\n",
       " 'ʔ': ['glottal', 'plosive'],\n",
       " 'ʰ': ['aspirated'],\n",
       " 'ʱ': ['aspirated'],\n",
       " 'ʲ': ['palatalized'],\n",
       " 'ʷ': ['labialized'],\n",
       " 'ʼ': ['ejective'],\n",
       " 'ˈ': ['primary stress'],\n",
       " 'ː': ['long'],\n",
       " '˥': ['extra high level'],\n",
       " '˦': ['high level'],\n",
       " '˧': ['mid level'],\n",
       " '˨': ['low level'],\n",
       " '˩': ['extra low level'],\n",
       " '̃': ['nasalized'],\n",
       " '̝': ['raised'],\n",
       " '̤': ['breathy voiced'],\n",
       " 'β': ['voiced', 'bilabial', 'fricative']}"
      ]
     },
     "execution_count": 6,
     "metadata": {},
     "output_type": "execute_result"
    }
   ],
   "source": [
    "symbol2attr"
   ]
  },
  {
   "cell_type": "code",
   "execution_count": 7,
   "metadata": {},
   "outputs": [
    {
     "name": "stdout",
     "output_type": "stream",
     "text": [
      "['front', 'postalveolar', 'high level', 'voiceless', 'tap', 'implosive', 'trill', 'click', 'alveolo-palatal', 'breathy voiced', 'open', 'labial-palatal', 'near-close', 'lateral fricative', 'back', 'unrounded', 'rounded', 'plosive', 'extra high level', 'palatal', 'retroflex', 'mid', 'low level', 'extra low level', 'approximant', 'R-coloured', 'velar', 'mid level', 'fricative', 'glottal', 'central', 'dental', 'pharyngeal', 'flap', 'nasal', 'raised', 'close', 'labiodental', 'primary stress', 'uvular', 'labialized', 'ejective', 'long', 'open-mid', 'near-open', 'alveolar', 'lateral approximant', 'nasalized', 'labial-velar', 'near-back', 'near-front', 'aspirated', 'close-mid', 'lateral click', 'palatalized', 'bilabial', 'voiced']\n",
      "57\n"
     ]
    }
   ],
   "source": [
    "print(attr_list)\n",
    "print(len(attr_list))"
   ]
  },
  {
   "cell_type": "code",
   "execution_count": 8,
   "metadata": {},
   "outputs": [
    {
     "name": "stdout",
     "output_type": "stream",
     "text": [
      "['front', 'postalveolar', 'high level', 'voiceless', 'tap', 'implosive', 'trill', 'click', 'alveolo-palatal', 'breathy voiced', 'open', 'labial-palatal', 'near-close', 'lateral fricative', 'back', 'unrounded', 'rounded', 'plosive', 'extra high level', 'palatal', 'retroflex', 'mid', 'low level', 'extra low level', 'approximant', 'R-coloured', 'velar', 'mid level', 'fricative', 'glottal', 'central', 'dental', 'pharyngeal', 'flap', 'nasal', 'raised', 'close', 'labiodental', 'primary stress', 'uvular', 'labialized', 'ejective', 'long', 'open-mid', 'near-open', 'alveolar', 'lateral approximant', 'nasalized', 'labial-velar', 'near-back', 'near-front', 'aspirated', 'close-mid', 'lateral click', 'palatalized', 'bilabial', 'voiced']\n",
      "57\n"
     ]
    }
   ],
   "source": [
    "print(attr_list)\n",
    "print(len(attr_list))"
   ]
  },
  {
   "cell_type": "code",
   "execution_count": 9,
   "metadata": {},
   "outputs": [],
   "source": [
    "desc = []\n",
    "voicing = []\n",
    "place = []\n",
    "manner = []\n",
    "height = []\n",
    "back = []\n",
    "rounding = []\n",
    "\n",
    "for attr in attr_list:\n",
    "    if attr in list(ipa_df['Voicing']):\n",
    "        voicing.append(attr)\n",
    "    if attr in list(ipa_df['Place_of_Articulation']):\n",
    "        place.append(attr)\n",
    "    if attr in list(ipa_df['Manner_of_Articulation']):\n",
    "        manner.append(attr)\n",
    "    if attr in list(ipa_df['Height']):\n",
    "        height.append(attr)\n",
    "    if attr in list(ipa_df['Backness']):\n",
    "        back.append(attr)\n",
    "    if attr in list(ipa_df['Rounding']):\n",
    "        rounding.append(attr)\n",
    "    if attr in list(ipa_df['Description']):\n",
    "        desc.append(attr)\n",
    "        \n",
    "\n",
    "if 'nasal' in place:\n",
    "    place.remove('nasal')\n",
    "    \n",
    "if 'dental' in desc:\n",
    "    desc.remove('dental')\n",
    "\n",
    "attr_list_sorted = voicing + place + manner + height + back + rounding + desc\n",
    "attr_list_sorted.append('aspirated voiced')"
   ]
  },
  {
   "cell_type": "code",
   "execution_count": 10,
   "metadata": {},
   "outputs": [
    {
     "name": "stdout",
     "output_type": "stream",
     "text": [
      "['<blank>', '<unk>', '<space>', 'voiceless', 'voiced', 'postalveolar', 'alveolo-palatal', 'labial-palatal', 'palatal', 'retroflex', 'velar', 'glottal', 'dental', 'pharyngeal', 'labiodental', 'uvular', 'alveolar', 'labial-velar', 'bilabial', 'tap', 'implosive', 'trill', 'click', 'lateral fricative', 'plosive', 'approximant', 'fricative', 'flap', 'nasal', 'ejective', 'lateral approximant', 'lateral click', 'open', 'near-close', 'mid', 'close', 'open-mid', 'near-open', 'close-mid', 'front', 'back', 'central', 'near-back', 'near-front', 'unrounded', 'rounded', 'high level', 'breathy voiced', 'extra high level', 'low level', 'extra low level', 'R-coloured', 'mid level', 'raised', 'primary stress', 'labialized', 'long', 'nasalized', 'aspirated', 'palatalized', 'aspirated voiced', '<sos/eos>']\n"
     ]
    }
   ],
   "source": [
    "non_lang = ['<blank>', '<unk>','<space>']\n",
    "attr_list_sorted = non_lang + attr_list_sorted + ['<sos/eos>']\n",
    "print(attr_list_sorted)"
   ]
  },
  {
   "cell_type": "code",
   "execution_count": 11,
   "metadata": {},
   "outputs": [],
   "source": [
    "n_symbol = len(symbols)\n",
    "n_attr = len(attr_list_sorted)\n",
    "embeddings = np.zeros((n_symbol, n_attr))\n",
    "\n",
    "for i, symbol in enumerate(symbols):\n",
    "    attr_index = [attr_list_sorted.index(attr) for attr in symbol2attr[symbol]]\n",
    "    embeddings[i, attr_index] = 1"
   ]
  },
  {
   "cell_type": "code",
   "execution_count": 13,
   "metadata": {},
   "outputs": [
    {
     "data": {
      "text/plain": [
       "(95, 62)"
      ]
     },
     "execution_count": 13,
     "metadata": {},
     "output_type": "execute_result"
    }
   ],
   "source": [
    "embeddings.shape"
   ]
  },
  {
   "cell_type": "code",
   "execution_count": 14,
   "metadata": {},
   "outputs": [],
   "source": [
    "np.save('data_phdist/signature', embeddings)"
   ]
  },
  {
   "cell_type": "code",
   "execution_count": null,
   "metadata": {},
   "outputs": [],
   "source": []
  },
  {
   "cell_type": "code",
   "execution_count": null,
   "metadata": {},
   "outputs": [],
   "source": []
  },
  {
   "cell_type": "code",
   "execution_count": 127,
   "metadata": {},
   "outputs": [],
   "source": [
    "sim_mat = cosine_similarity(embeddings)"
   ]
  },
  {
   "cell_type": "code",
   "execution_count": 133,
   "metadata": {},
   "outputs": [
    {
     "data": {
      "text/plain": [
       "0.2886751345948129"
      ]
     },
     "execution_count": 133,
     "metadata": {},
     "output_type": "execute_result"
    }
   ],
   "source": [
    "sim_mat[symbols.index('t'), symbols.index('b')]"
   ]
  },
  {
   "cell_type": "code",
   "execution_count": 144,
   "metadata": {},
   "outputs": [],
   "source": [
    "sim_mat_nml = sim_mat / np.sum(sim_mat, axis=0).reshape(-1, 1)"
   ]
  },
  {
   "cell_type": "code",
   "execution_count": 156,
   "metadata": {},
   "outputs": [],
   "source": [
    "# np.save('data_phdist/sim_mat_nml', sim_mat_nml)"
   ]
  },
  {
   "cell_type": "code",
   "execution_count": null,
   "metadata": {},
   "outputs": [],
   "source": []
  },
  {
   "cell_type": "code",
   "execution_count": null,
   "metadata": {},
   "outputs": [],
   "source": []
  },
  {
   "cell_type": "code",
   "execution_count": 149,
   "metadata": {},
   "outputs": [
    {
     "data": {
      "text/plain": [
       "array([0.        , 0.        , 0.        , 0.13636364, 0.        ,\n",
       "       0.        , 0.        , 0.09090909, 0.        , 0.        ,\n",
       "       0.        , 0.09090909, 0.        , 0.        , 0.        ,\n",
       "       0.        , 0.        , 0.        , 0.        , 0.        ,\n",
       "       0.        , 0.        , 0.        , 0.        , 0.        ,\n",
       "       0.        , 0.        , 0.04545455, 0.        , 0.09090909,\n",
       "       0.        , 0.04545455, 0.        , 0.        , 0.04545455,\n",
       "       0.        , 0.        , 0.        , 0.        , 0.09090909,\n",
       "       0.04545455, 0.        , 0.        , 0.        , 0.        ,\n",
       "       0.        , 0.        , 0.        , 0.09090909, 0.04545455,\n",
       "       0.        , 0.        , 0.        , 0.        , 0.04545455,\n",
       "       0.        , 0.        , 0.04545455, 0.04545455, 0.        ,\n",
       "       0.        , 0.04545455, 0.        , 0.        , 0.        ,\n",
       "       0.        , 0.        , 0.        , 0.        , 0.        ,\n",
       "       0.        , 0.        , 0.        , 0.        , 0.        ,\n",
       "       0.        , 0.        , 0.        , 0.        , 0.        ,\n",
       "       0.        , 0.        , 0.        , 0.        , 0.        ,\n",
       "       0.        , 0.        , 0.        , 0.        , 0.        ,\n",
       "       0.        , 0.        , 0.        , 0.        , 0.        ])"
      ]
     },
     "execution_count": 149,
     "metadata": {},
     "output_type": "execute_result"
    }
   ],
   "source": [
    "sim_mat_nml[3]"
   ]
  },
  {
   "cell_type": "code",
   "execution_count": 155,
   "metadata": {},
   "outputs": [
    {
     "data": {
      "text/plain": [
       "'a'"
      ]
     },
     "execution_count": 155,
     "metadata": {},
     "output_type": "execute_result"
    }
   ],
   "source": [
    "symbols[3]"
   ]
  },
  {
   "cell_type": "code",
   "execution_count": 154,
   "metadata": {},
   "outputs": [
    {
     "data": {
      "text/plain": [
       "['open', 'front', 'unrounded']"
      ]
     },
     "execution_count": 154,
     "metadata": {},
     "output_type": "execute_result"
    }
   ],
   "source": [
    "symbol2attr[symbols[3]]"
   ]
  },
  {
   "cell_type": "code",
   "execution_count": 7,
   "metadata": {},
   "outputs": [
    {
     "data": {
      "text/plain": [
       "['<blank>',\n",
       " '<unk>',\n",
       " '<space>',\n",
       " 'voiced',\n",
       " 'voiceless',\n",
       " 'pharyngeal',\n",
       " 'retroflex',\n",
       " 'labiodental',\n",
       " 'dental',\n",
       " 'bilabial',\n",
       " 'glottal',\n",
       " 'velar',\n",
       " 'alveolo-palatal',\n",
       " 'labial-palatal',\n",
       " 'uvular',\n",
       " 'labial-velar',\n",
       " 'postalveolar',\n",
       " 'palatal',\n",
       " 'alveolar',\n",
       " 'implosive',\n",
       " 'lateral fricative',\n",
       " 'plosive',\n",
       " 'lateral click',\n",
       " 'ejective',\n",
       " 'approximant',\n",
       " 'tap',\n",
       " 'click',\n",
       " 'nasal',\n",
       " 'trill',\n",
       " 'lateral approximant',\n",
       " 'flap',\n",
       " 'fricative',\n",
       " 'mid',\n",
       " 'open-mid',\n",
       " 'near-open',\n",
       " 'close-mid',\n",
       " 'open',\n",
       " 'close',\n",
       " 'near-close',\n",
       " 'near-front',\n",
       " 'near-back',\n",
       " 'back',\n",
       " 'central',\n",
       " 'front',\n",
       " 'unrounded',\n",
       " 'rounded',\n",
       " 'palatalized',\n",
       " 'aspirated',\n",
       " 'raised',\n",
       " 'high level',\n",
       " 'extra low level',\n",
       " 'primary stress',\n",
       " 'low level',\n",
       " 'nasalized',\n",
       " 'R-coloured',\n",
       " 'mid level',\n",
       " 'breathy voiced',\n",
       " 'labialized',\n",
       " 'extra high level',\n",
       " 'long',\n",
       " 'aspirated voiced',\n",
       " '<sos/eos>']"
      ]
     },
     "execution_count": 7,
     "metadata": {},
     "output_type": "execute_result"
    }
   ],
   "source": [
    "attr_list_sorted"
   ]
  },
  {
   "cell_type": "code",
   "execution_count": 50,
   "metadata": {},
   "outputs": [
    {
     "data": {
      "text/plain": [
       "(62, 95)"
      ]
     },
     "execution_count": 50,
     "metadata": {},
     "output_type": "execute_result"
    }
   ],
   "source": [
    "attr_mat.shape"
   ]
  },
  {
   "cell_type": "code",
   "execution_count": 57,
   "metadata": {},
   "outputs": [],
   "source": []
  },
  {
   "cell_type": "code",
   "execution_count": 56,
   "metadata": {},
   "outputs": [
    {
     "data": {
      "text/plain": [
       "(62, 95)"
      ]
     },
     "execution_count": 56,
     "metadata": {},
     "output_type": "execute_result"
    }
   ],
   "source": [
    "nattr, nsym = attr_mat.shape\n",
    "nattr, nsym"
   ]
  },
  {
   "cell_type": "code",
   "execution_count": 64,
   "metadata": {},
   "outputs": [],
   "source": [
    "eps = 1e-5\n",
    "attr_mat_smooth = attr_mat + eps"
   ]
  },
  {
   "cell_type": "code",
   "execution_count": null,
   "metadata": {},
   "outputs": [],
   "source": [
    "\n",
    "sim_mat = np.zeros((nsym,nsym))\n",
    "for si in range(nsym):\n",
    "    for sj in range(nsym):\n",
    "        vi = attr_mat[:,sj]\n",
    "        vj = attr_mat[:,si]\n",
    "        sim_mat ="
   ]
  },
  {
   "cell_type": "code",
   "execution_count": 69,
   "metadata": {},
   "outputs": [],
   "source": [
    "sim_mat = cosine_similarity(attr_mat_smooth.T)"
   ]
  },
  {
   "cell_type": "code",
   "execution_count": 71,
   "metadata": {},
   "outputs": [
    {
     "data": {
      "text/plain": [
       "(1.0000000000000002, 2.0001666591998e-05)"
      ]
     },
     "execution_count": 71,
     "metadata": {},
     "output_type": "execute_result"
    }
   ],
   "source": [
    "sim_mat.max(), sim_mat.min()"
   ]
  },
  {
   "cell_type": "code",
   "execution_count": 78,
   "metadata": {},
   "outputs": [
    {
     "data": {
      "text/plain": [
       "array([-2.22044605e-16,  0.00000000e+00,  1.11022302e-16,  2.22044605e-16,\n",
       "        2.22044605e-15,  2.33146835e-15,  1.83499336e-01,  2.49995000e-01,\n",
       "        2.49995000e-01,  2.92886147e-01,  3.33326666e-01,  3.33326666e-01,\n",
       "        4.22638183e-01,  4.22638183e-01,  4.22638183e-01,  4.22641070e-01,\n",
       "        4.22641070e-01,  4.22641070e-01,  4.22641070e-01,  4.22641070e-01,\n",
       "        4.99984999e-01,  4.99989999e-01,  4.99989999e-01,  4.99989999e-01,\n",
       "        5.91739461e-01,  6.46432466e-01,  6.46432466e-01,  6.46432466e-01,\n",
       "        6.66653332e-01,  6.66653332e-01,  6.66653332e-01,  7.11310431e-01,\n",
       "        7.11310431e-01,  7.11310431e-01,  7.11310431e-01,  9.99974997e-01,\n",
       "        9.99976903e-01,  9.99978783e-01,  9.99978785e-01,  9.99979585e-01,\n",
       "        9.99979791e-01,  9.99979994e-01,  9.99979997e-01,  9.99979998e-01])"
      ]
     },
     "execution_count": 78,
     "metadata": {},
     "output_type": "execute_result"
    }
   ],
   "source": [
    "np.unique(1-sim_mat)"
   ]
  },
  {
   "cell_type": "code",
   "execution_count": 85,
   "metadata": {},
   "outputs": [],
   "source": [
    "diff_mat = 1-sim_mat\n",
    "# diff_mat = diff_mat - np.min(diff_mat)"
   ]
  },
  {
   "cell_type": "code",
   "execution_count": 87,
   "metadata": {},
   "outputs": [
    {
     "data": {
      "text/plain": [
       "(array([82]), array([82]))"
      ]
     },
     "execution_count": 87,
     "metadata": {},
     "output_type": "execute_result"
    }
   ],
   "source": [
    "np.where(diff_mat==np.min(diff_mat))"
   ]
  },
  {
   "cell_type": "code",
   "execution_count": 86,
   "metadata": {},
   "outputs": [
    {
     "data": {
      "text/plain": [
       "array([-2.22044605e-16])"
      ]
     },
     "execution_count": 86,
     "metadata": {},
     "output_type": "execute_result"
    }
   ],
   "source": [
    "diff_mat[diff_mat==np.min(diff_mat)]"
   ]
  },
  {
   "cell_type": "code",
   "execution_count": null,
   "metadata": {},
   "outputs": [],
   "source": []
  },
  {
   "cell_type": "code",
   "execution_count": 92,
   "metadata": {},
   "outputs": [
    {
     "data": {
      "text/plain": [
       "array([[0.00000000e+00, 9.99979994e-01, 9.99979994e-01, ...,\n",
       "        9.99979994e-01, 9.99976903e-01, 9.99979994e-01],\n",
       "       [9.99979994e-01, 0.00000000e+00, 9.99979994e-01, ...,\n",
       "        9.99979994e-01, 9.99976903e-01, 9.99979994e-01],\n",
       "       [9.99979994e-01, 9.99979994e-01, 0.00000000e+00, ...,\n",
       "        9.99979994e-01, 9.99976903e-01, 9.99979994e-01],\n",
       "       ...,\n",
       "       [9.99979994e-01, 9.99979994e-01, 9.99979994e-01, ...,\n",
       "        1.11022302e-16, 9.99976903e-01, 9.99979994e-01],\n",
       "       [9.99976903e-01, 9.99976903e-01, 9.99976903e-01, ...,\n",
       "        9.99976903e-01, 0.00000000e+00, 9.99976903e-01],\n",
       "       [9.99979994e-01, 9.99979994e-01, 9.99979994e-01, ...,\n",
       "        9.99979994e-01, 9.99976903e-01, 2.22044605e-16]])"
      ]
     },
     "execution_count": 92,
     "metadata": {},
     "output_type": "execute_result"
    }
   ],
   "source": [
    "diff_mat[diff_mat<0] = 0\n",
    "diff_mat"
   ]
  },
  {
   "cell_type": "code",
   "execution_count": 94,
   "metadata": {},
   "outputs": [
    {
     "data": {
      "text/plain": [
       "<matplotlib.image.AxesImage at 0x7fbae215ee10>"
      ]
     },
     "execution_count": 94,
     "metadata": {},
     "output_type": "execute_result"
    },
    {
     "data": {
      "image/png": "[encoded data removed]",
      "text/plain": [
       "<Figure size 432x288 with 1 Axes>"
      ]
     },
     "metadata": {
      "needs_background": "light"
     },
     "output_type": "display_data"
    }
   ],
   "source": [
    "plt.imshow(diff_mat)"
   ]
  },
  {
   "cell_type": "code",
   "execution_count": 96,
   "metadata": {},
   "outputs": [],
   "source": [
    "np.save('data_phdist/dist_mat', diff_mat)\n"
   ]
  },
  {
   "cell_type": "code",
   "execution_count": 54,
   "metadata": {},
   "outputs": [
    {
     "data": {
      "text/plain": [
       "['<blank>',\n",
       " '<unk>',\n",
       " '<space>',\n",
       " 'voiced',\n",
       " 'voiceless',\n",
       " 'glottal',\n",
       " 'alveolo-palatal',\n",
       " 'alveolar',\n",
       " 'postalveolar',\n",
       " 'uvular',\n",
       " 'velar',\n",
       " 'retroflex',\n",
       " 'labial-palatal',\n",
       " 'palatal',\n",
       " 'pharyngeal',\n",
       " 'labial-velar',\n",
       " 'dental',\n",
       " 'bilabial',\n",
       " 'labiodental',\n",
       " 'plosive',\n",
       " 'ejective',\n",
       " 'lateral click',\n",
       " 'lateral approximant',\n",
       " 'click',\n",
       " 'flap',\n",
       " 'trill',\n",
       " 'approximant',\n",
       " 'implosive',\n",
       " 'tap',\n",
       " 'nasal',\n",
       " 'lateral fricative',\n",
       " 'fricative',\n",
       " 'mid',\n",
       " 'near-close',\n",
       " 'close',\n",
       " 'close-mid',\n",
       " 'open',\n",
       " 'open-mid',\n",
       " 'near-open',\n",
       " 'near-front',\n",
       " 'near-back',\n",
       " 'front',\n",
       " 'back',\n",
       " 'central',\n",
       " 'unrounded',\n",
       " 'rounded',\n",
       " 'high level',\n",
       " 'extra low level',\n",
       " 'nasalized',\n",
       " 'long',\n",
       " 'R-coloured',\n",
       " 'low level',\n",
       " 'extra high level',\n",
       " 'primary stress',\n",
       " 'breathy voiced',\n",
       " 'palatalized',\n",
       " 'mid level',\n",
       " 'labialized',\n",
       " 'aspirated',\n",
       " 'raised',\n",
       " 'aspirated voiced',\n",
       " '<sos/eos>']"
      ]
     },
     "execution_count": 54,
     "metadata": {},
     "output_type": "execute_result"
    }
   ],
   "source": [
    "attr_list_sorted"
   ]
  },
  {
   "cell_type": "code",
   "execution_count": null,
   "metadata": {},
   "outputs": [],
   "source": []
  },
  {
   "cell_type": "code",
   "execution_count": null,
   "metadata": {},
   "outputs": [],
   "source": []
  },
  {
   "cell_type": "code",
   "execution_count": 7,
   "metadata": {},
   "outputs": [
    {
     "name": "stdout",
     "output_type": "stream",
     "text": [
      "['<blank>', '<unk>', '<hes>', '<noise>', '<silence>', '<space>', '<v-noise>', 'voiced', 'voiceless', 'dental', 'bilabial', 'palatal', 'velar', 'postalveolar', 'uvular', 'alveolo-palatal', 'labiodental', 'labial-velar', 'retroflex', 'pharyngeal', 'alveolar', 'glottal', 'trill', 'flap', 'click', 'lateral fricative', 'lateral click', 'ejective', 'lateral approximant', 'fricative', 'approximant', 'plosive', 'nasal', 'implosive', 'close-mid', 'mid', 'near-close', 'near-open', 'open-mid', 'open', 'close', 'near-back', 'central', 'front', 'back', 'near-front', 'unrounded', 'rounded', 'palatalized', 'aspirated', 'low level', 'nasalized', 'long', 'extra high level', 'mid level', 'breathy voiced', 'extra low level', 'labialized', 'primary stress', 'aspirated voiced', '<sos/eos>']\n"
     ]
    }
   ],
   "source": [
    "print(attr_list_sorted)"
   ]
  },
  {
   "cell_type": "code",
   "execution_count": 33,
   "metadata": {
    "scrolled": true
   },
   "outputs": [
    {
     "name": "stdout",
     "output_type": "stream",
     "text": [
      "['<blank>', '<unk>', '<hes>', '<noise>', '<silence>', '<space>', '<v-noise>', 'voiced', 'voiceless', 'dental', 'bilabial', 'palatal', 'velar', 'postalveolar', 'uvular', 'alveolo-palatal', 'labiodental', 'labial-velar', 'retroflex', 'pharyngeal', 'alveolar', 'glottal', 'trill', 'flap', 'click', 'lateral fricative', 'lateral click', 'ejective', 'lateral approximant', 'fricative', 'approximant', 'plosive', 'nasal', 'implosive', 'close-mid', 'mid', 'near-close', 'near-open', 'open-mid', 'open', 'close', 'near-back', 'central', 'front', 'back', 'near-front', 'unrounded', 'rounded', 'palatalized', 'aspirated', 'low level', 'nasalized', 'long', 'extra high level', 'mid level', 'breathy voiced', 'extra low level', 'labialized', 'primary stress', 'aspirated voiced', '<sos/eos>']\n",
      "item_idx 0\n",
      "item_idx 1\n",
      "item_idx 2\n",
      "item_idx 3\n",
      "item_idx 4\n",
      "item_idx 5\n",
      "item_idx 6\n",
      "['a', '7']\n",
      "open\n",
      "front\n",
      "unrounded\n",
      "item_idx 7\n",
      "['b', '8']\n",
      "voiced\n",
      "bilabial\n",
      "plosive\n",
      "item_idx 8\n",
      "['c', '9']\n",
      "voiceless\n",
      "palatal\n",
      "plosive\n",
      "item_idx 9\n",
      "['d', '10']\n",
      "voiced\n",
      "dental\n",
      "alveolar\n",
      "plosive\n",
      "item_idx 10\n",
      "['e', '11']\n",
      "close-mid\n",
      "front\n",
      "unrounded\n",
      "item_idx 11\n",
      "['f', '12']\n",
      "voiceless\n",
      "labiodental\n",
      "fricative\n",
      "item_idx 12\n",
      "['h', '13']\n",
      "voiceless\n",
      "glottal\n",
      "fricative\n",
      "item_idx 13\n",
      "['i', '14']\n",
      "close\n",
      "front\n",
      "unrounded\n",
      "item_idx 14\n",
      "['j', '15']\n",
      "voiced\n",
      "palatal\n",
      "approximant\n",
      "item_idx 15\n",
      "['k', '16']\n",
      "voiceless\n",
      "velar\n",
      "plosive\n",
      "item_idx 16\n",
      "['l', '17']\n",
      "voiced\n",
      "dental\n",
      "alveolar\n",
      "lateral approximant\n",
      "item_idx 17\n",
      "['m', '18']\n",
      "voiced\n",
      "bilabial\n",
      "nasal\n",
      "item_idx 18\n",
      "['n', '19']\n",
      "voiced\n",
      "dental\n",
      "alveolar\n",
      "nasal\n",
      "item_idx 19\n",
      "['o', '20']\n",
      "close-mid\n",
      "back\n",
      "rounded\n",
      "item_idx 20\n",
      "['p', '21']\n",
      "voiceless\n",
      "bilabial\n",
      "plosive\n",
      "item_idx 21\n",
      "['r', '22']\n",
      "voiced\n",
      "dental\n",
      "alveolar\n",
      "trill\n",
      "item_idx 22\n",
      "['s', '23']\n",
      "voiceless\n",
      "alveolar\n",
      "fricative\n",
      "item_idx 23\n",
      "['t', '24']\n",
      "voiceless\n",
      "dental\n",
      "alveolar\n",
      "plosive\n",
      "item_idx 24\n",
      "['u', '25']\n",
      "close\n",
      "back\n",
      "rounded\n",
      "item_idx 25\n",
      "['v', '26']\n",
      "voiced\n",
      "labiodental\n",
      "fricative\n",
      "item_idx 26\n",
      "['w', '27']\n",
      "voiced\n",
      "labial-velar\n",
      "approximant\n",
      "item_idx 27\n",
      "['x', '28']\n",
      "voiceless\n",
      "palatal\n",
      "fricative\n",
      "item_idx 28\n",
      "['y', '29']\n",
      "close\n",
      "front\n",
      "rounded\n",
      "item_idx 29\n",
      "['z', '30']\n",
      "voiced\n",
      "alveolar\n",
      "fricative\n",
      "item_idx 30\n",
      "['æ', '31']\n",
      "near-open\n",
      "front\n",
      "unrounded\n",
      "item_idx 31\n",
      "['ħ', '32']\n",
      "voiceless\n",
      "pharyngeal\n",
      "fricative\n",
      "item_idx 32\n",
      "['ŋ', '33']\n",
      "voiced\n",
      "velar\n",
      "nasal\n",
      "item_idx 33\n",
      "['œ', '34']\n",
      "open-mid\n",
      "front\n",
      "rounded\n",
      "item_idx 34\n",
      "['ǀ', '35']\n",
      "dental\n",
      "click\n",
      "item_idx 35\n",
      "['ǁ', '36']\n",
      "alveolar\n",
      "lateral click\n",
      "item_idx 36\n",
      "['ǃ', '37']\n",
      "postalveolar\n",
      "click\n",
      "item_idx 37\n",
      "['ɐ', '38']\n",
      "near-open\n",
      "central\n",
      "item_idx 38\n",
      "['ɓ', '39']\n",
      "voiced\n",
      "bilabial\n",
      "implosive\n",
      "item_idx 39\n",
      "['ɔ', '40']\n",
      "open-mid\n",
      "back\n",
      "rounded\n",
      "item_idx 40\n",
      "['ɕ', '41']\n",
      "voiceless\n",
      "alveolo-palatal\n",
      "fricative\n",
      "item_idx 41\n",
      "['ɖ', '42']\n",
      "voiced\n",
      "retroflex\n",
      "plosive\n",
      "item_idx 42\n",
      "['ɗ', '43']\n",
      "voiced\n",
      "dental\n",
      "alveolar\n",
      "implosive\n",
      "item_idx 43\n",
      "['ə', '44']\n",
      "mid\n",
      "central\n",
      "item_idx 44\n",
      "['ɛ', '45']\n",
      "open-mid\n",
      "front\n",
      "unrounded\n",
      "item_idx 45\n",
      "['ɜ', '46']\n",
      "open-mid\n",
      "central\n",
      "unrounded\n",
      "item_idx 46\n",
      "['ɟ', '47']\n",
      "voiced\n",
      "palatal\n",
      "plosive\n",
      "item_idx 47\n",
      "['ɠ', '48']\n",
      "voiced\n",
      "velar\n",
      "implosive\n",
      "item_idx 48\n",
      "['ɡ', '49']\n",
      "voiced\n",
      "velar\n",
      "plosive\n",
      "item_idx 49\n",
      "['ɣ', '50']\n",
      "voiced\n",
      "velar\n",
      "fricative\n",
      "item_idx 50\n",
      "['ɦ', '51']\n",
      "voiced\n",
      "glottal\n",
      "fricative\n",
      "item_idx 51\n",
      "['ɨ', '52']\n",
      "close\n",
      "central\n",
      "unrounded\n",
      "item_idx 52\n",
      "['ɪ', '53']\n",
      "near-close\n",
      "near-front\n",
      "unrounded\n",
      "item_idx 53\n",
      "['ɬ', '54']\n",
      "voiceless\n",
      "dental\n",
      "alveolar\n",
      "lateral fricative\n",
      "item_idx 54\n",
      "['ɮ', '55']\n",
      "voiced\n",
      "dental\n",
      "alveolar\n",
      "lateral fricative\n",
      "item_idx 55\n",
      "['ɲ', '56']\n",
      "voiced\n",
      "palatal\n",
      "nasal\n",
      "item_idx 56\n",
      "['ɹ', '57']\n",
      "voiced\n",
      "dental\n",
      "alveolar\n",
      "approximant\n",
      "item_idx 57\n",
      "['ɽ', '58']\n",
      "voiced\n",
      "retroflex\n",
      "flap\n",
      "item_idx 58\n",
      "['ʁ', '59']\n",
      "voiced\n",
      "uvular\n",
      "fricative\n",
      "item_idx 59\n",
      "['ʂ', '60']\n",
      "voiceless\n",
      "retroflex\n",
      "fricative\n",
      "item_idx 60\n",
      "['ʃ', '61']\n",
      "voiceless\n",
      "postalveolar\n",
      "fricative\n",
      "item_idx 61\n",
      "['ʈ', '62']\n",
      "voiceless\n",
      "retroflex\n",
      "plosive\n",
      "item_idx 62\n",
      "['ʊ', '63']\n",
      "near-close\n",
      "near-back\n",
      "rounded\n",
      "item_idx 63\n",
      "['ʒ', '64']\n",
      "voiced\n",
      "postalveolar\n",
      "fricative\n",
      "item_idx 64\n",
      "['ʔ', '65']\n",
      "glottal\n",
      "plosive\n",
      "item_idx 65\n",
      "['ʰ', '66']\n",
      "aspirated\n",
      "item_idx 66\n",
      "['ʱ', '67'] Not Found\n",
      "['ʱ', '67']\n",
      "aspirated voiced\n",
      "item_idx 67\n",
      "['ʲ', '68']\n",
      "palatalized\n",
      "item_idx 68\n",
      "['ʷ', '69']\n",
      "labialized\n",
      "item_idx 69\n",
      "['ʼ', '70']\n",
      "ejective\n",
      "item_idx 70\n",
      "['ˈ', '71']\n",
      "primary stress\n",
      "item_idx 71\n",
      "['ː', '72']\n",
      "long\n",
      "item_idx 72\n",
      "['˥', '73']\n",
      "extra high level\n",
      "item_idx 73\n",
      "['˧', '74']\n",
      "mid level\n",
      "item_idx 74\n",
      "['˨', '75']\n",
      "low level\n",
      "item_idx 75\n",
      "['˩', '76']\n",
      "extra low level\n",
      "item_idx 76\n",
      "['̃', '77']\n",
      "nasalized\n",
      "item_idx 77\n",
      "['̤', '78']\n",
      "breathy voiced\n",
      "item_idx 78\n",
      "open\n",
      "back\n",
      "unrounded\n",
      "item_idx 79\n",
      "close-mid\n",
      "back\n",
      "unrounded\n",
      "item_idx 80\n",
      "close\n",
      "back\n",
      "unrounded\n",
      "item_idx 81\n",
      "voiceless\n",
      "uvular\n",
      "plosive\n",
      "{0: [0], 1: [1], 2: [2], 3: [3], 4: [4], 5: [5], 6: [6], 7: [39, 43, 46], 8: [7, 10, 31], 9: [8, 11, 31], 10: [7, 9, 20, 31], 11: [34, 43, 46], 12: [8, 16, 29], 13: [8, 21, 29], 14: [40, 43, 46], 15: [7, 11, 30], 16: [8, 12, 31], 17: [7, 9, 20, 28], 18: [7, 10, 32], 19: [7, 9, 20, 32], 20: [34, 44, 47], 21: [8, 10, 31], 22: [7, 9, 20, 22], 23: [8, 20, 29], 24: [8, 9, 20, 31], 25: [40, 44, 47], 26: [7, 16, 29], 27: [7, 17, 30], 28: [8, 11, 29], 29: [40, 43, 47], 30: [7, 20, 29], 31: [37, 43, 46], 32: [8, 19, 29], 33: [7, 12, 32], 34: [38, 43, 47], 35: [9, 24], 36: [20, 26], 37: [13, 24], 38: [37, 42], 39: [7, 10, 33], 40: [38, 44, 47], 41: [8, 15, 29], 42: [7, 18, 31], 43: [7, 9, 20, 33], 44: [35, 42], 45: [38, 43, 46], 46: [38, 42, 46], 47: [7, 11, 31], 48: [7, 12, 33], 49: [7, 12, 31], 50: [7, 12, 29], 51: [7, 21, 29], 52: [40, 42, 46], 53: [36, 45, 46], 54: [8, 9, 20, 25], 55: [7, 9, 20, 25], 56: [7, 11, 32], 57: [7, 9, 20, 30], 58: [7, 18, 23], 59: [7, 14, 29], 60: [8, 18, 29], 61: [8, 13, 29], 62: [8, 18, 31], 63: [36, 41, 47], 64: [7, 13, 29], 65: [21, 31], 66: [49], 67: [59], 68: [48], 69: [57], 70: [27], 71: [58], 72: [52], 73: [53], 74: [54], 75: [50], 76: [56], 77: [51], 78: [55], 79: [39, 44, 46], 80: [34, 44, 46], 81: [40, 44, 46], 82: [8, 14, 31]}\n",
      "{0: [0], 1: [1], 2: [2], 3: [3], 4: [4], 5: [5], 6: [6], 7: [39, 43, 46], 8: [7, 10, 31], 9: [8, 11, 31], 10: [7, 9, 20, 31], 11: [34, 43, 46], 12: [8, 16, 29], 13: [8, 21, 29], 14: [40, 43, 46], 15: [7, 11, 30], 16: [8, 12, 31], 17: [7, 9, 20, 28], 18: [7, 10, 32], 19: [7, 9, 20, 32], 20: [34, 44, 47], 21: [8, 10, 31], 22: [7, 9, 20, 22], 23: [8, 20, 29], 24: [8, 9, 20, 31], 25: [40, 44, 47], 26: [7, 16, 29], 27: [7, 17, 30], 28: [8, 11, 29], 29: [40, 43, 47], 30: [7, 20, 29], 31: [37, 43, 46], 32: [8, 19, 29], 33: [7, 12, 32], 34: [38, 43, 47], 35: [9, 24], 36: [20, 26], 37: [13, 24], 38: [37, 42], 39: [7, 10, 33], 40: [38, 44, 47], 41: [8, 15, 29], 42: [7, 18, 31], 43: [7, 9, 20, 33], 44: [35, 42], 45: [38, 43, 46], 46: [38, 42, 46], 47: [7, 11, 31], 48: [7, 12, 33], 49: [7, 12, 31], 50: [7, 12, 29], 51: [7, 21, 29], 52: [40, 42, 46], 53: [36, 45, 46], 54: [8, 9, 20, 25], 55: [7, 9, 20, 25], 56: [7, 11, 32], 57: [7, 9, 20, 30], 58: [7, 18, 23], 59: [7, 14, 29], 60: [8, 18, 29], 61: [8, 13, 29], 62: [8, 18, 31], 63: [36, 41, 47], 64: [7, 13, 29], 65: [21, 31], 66: [49], 67: [59], 68: [48], 69: [57], 70: [27], 71: [58], 72: [52], 73: [53], 74: [54], 75: [50], 76: [56], 77: [51], 78: [55], 79: [39, 44, 46], 80: [34, 44, 46], 81: [40, 44, 46], 82: [8, 14, 31], 83: [60]}\n"
     ]
    }
   ],
   "source": [
    "\n",
    "#       'Description', 'Voicing',\n",
    "#       'Place_of_Articulation', 'Manner_of_Articulation', 'Height', 'Backness',\n",
    "#       'Rounding'\n",
    "\n",
    "desc = []\n",
    "voicing = []\n",
    "place = []\n",
    "manner = []\n",
    "height = []\n",
    "back = []\n",
    "rounding = []\n",
    "\n",
    "for attr in attr_list:\n",
    "    if attr in list(ipa_df['Voicing']):\n",
    "        voicing.append(attr)\n",
    "    if attr in list(ipa_df['Place_of_Articulation']):\n",
    "        place.append(attr)\n",
    "    if attr in list(ipa_df['Manner_of_Articulation']):\n",
    "        manner.append(attr)\n",
    "    if attr in list(ipa_df['Height']):\n",
    "        height.append(attr)\n",
    "    if attr in list(ipa_df['Backness']):\n",
    "        back.append(attr)\n",
    "    if attr in list(ipa_df['Rounding']):\n",
    "        rounding.append(attr)\n",
    "    if attr in list(ipa_df['Description']):\n",
    "        desc.append(attr)\n",
    "\n",
    "place.pop(place.index('nasal'))\n",
    "desc.pop(desc.index('dental'))\n",
    "attr_list_sorted = voicing + place + manner + height + back + rounding + desc\n",
    "attr_list_sorted.append('aspirated voiced')\n",
    "\n",
    "\n",
    "non_lang = ['<blank>','<unk>','<hes>','<noise>','<silence>','<space>','<v-noise>']\n",
    "\n",
    "attr_list_sorted = non_lang + attr_list_sorted + ['<sos/eos>']\n",
    "print(attr_list_sorted)\n",
    "\n",
    "train_units_path = 'data/lang_1char/train_units.txt'\n",
    "train_unit_file = codecs.open(train_units_path)\n",
    "lines = train_unit_file.readlines()\n",
    "\n",
    "symbol_dict = {}\n",
    "symbol_dict[0] = [attr_list_sorted.index('<blank>')]\n",
    "for item_idx in range(len(lines)):\n",
    "    print(f'item_idx {item_idx}')\n",
    "    symbol_dict[item_idx + 1] = []\n",
    "    if item_idx >= 6:\n",
    "        item = lines[item_idx]\n",
    "        item = item.replace('\\n','').split()\n",
    "        if len(ipa_df[ipa_df['Symbol'] == item[0]]) == 0:\n",
    "            print(item, 'Not Found')\n",
    "            symbol_dict[item_idx + 1].append(attr_list_sorted.index('aspirated voiced'))\n",
    "        else:\n",
    "            cur_df = ipa_df[ipa_df['Symbol'] == item[0]]\n",
    "            for attr_idx in [3, 4, 5, 6, 7, 8, 9]:\n",
    "                cur_attr = cur_df.iloc[0,attr_idx]\n",
    "                if (isinstance(cur_attr,str)):\n",
    "                    if ';' in cur_attr:\n",
    "                        attrs = cur_attr.split(';')\n",
    "                        for attr in attrs:\n",
    "                            symbol_dict[item_idx + 1].append(attr_list_sorted.index(attr))\n",
    "                    else:\n",
    "                        if '(' in cur_attr:\n",
    "                            cur_attr = cur_attr.replace('(','')\n",
    "                            cur_attr = cur_attr.replace(')','')\n",
    "                        symbol_dict[item_idx + 1].append(attr_list_sorted.index(cur_attr))\n",
    "        print(item)\n",
    "        for idx in symbol_dict[item_idx + 1]:\n",
    "            print(attr_list_sorted[idx])\n",
    "    else:\n",
    "        symbol_dict[item_idx + 1].append(item_idx + 1)\n",
    "\n",
    "item_idx += 1\n",
    "for item in ['ɑ', 'ɤ', 'ɯ', 'q']:\n",
    "    print(f'item_idx {item_idx}')\n",
    "    symbol_dict[item_idx + 1] = []\n",
    "    cur_df = ipa_df[ipa_df['Symbol'] == item]\n",
    "    for attr_idx in [3, 4, 5, 6, 7, 8, 9]:\n",
    "        cur_attr = cur_df.iloc[0,attr_idx]\n",
    "#         print(cur_df.iloc[0,attr_idx])\n",
    "        if (isinstance(cur_attr,str)):\n",
    "            if ';' in cur_attr:\n",
    "                attrs = cur_attr.split(';')\n",
    "                for attr in attrs:\n",
    "                    symbol_dict[item_idx + 1].append(attr_list_sorted.index(attr))\n",
    "            else:\n",
    "                if '(' in cur_attr:\n",
    "                    cur_attr = cur_attr.replace('(','')\n",
    "                    cur_attr = cur_attr.replace(')','')\n",
    "                symbol_dict[item_idx + 1].append(attr_list_sorted.index(cur_attr))\n",
    "    for idx in symbol_dict[item_idx + 1]:\n",
    "        print(attr_list_sorted[idx])\n",
    "    item_idx += 1\n",
    "    \n",
    "    \n",
    "#     print(item)\n",
    "# esos/eos\n",
    "print(symbol_dict)\n",
    "symbol_dict[len(symbol_dict)] = [attr_list_sorted.index('<sos/eos>')]\n",
    "\n",
    "\n",
    "print(symbol_dict)\n",
    "\n",
    "attr_mat = np.zeros((len(attr_list_sorted),len(symbol_dict)))\n",
    "\n",
    "for symbol_idx in symbol_dict.keys():\n",
    "    attr_mat[symbol_dict[symbol_idx], symbol_idx] = 1\n",
    "    \n",
    "np.save('complete_arti_attr_mat.npy',attr_mat)"
   ]
  },
  {
   "cell_type": "code",
   "execution_count": null,
   "metadata": {},
   "outputs": [],
   "source": [
    "symbol_dict"
   ]
  },
  {
   "cell_type": "code",
   "execution_count": 32,
   "metadata": {},
   "outputs": [
    {
     "data": {
      "text/plain": [
       "84"
      ]
     },
     "execution_count": 32,
     "metadata": {},
     "output_type": "execute_result"
    }
   ],
   "source": [
    "len(symbol_dict)"
   ]
  },
  {
   "cell_type": "code",
   "execution_count": 30,
   "metadata": {},
   "outputs": [
    {
     "data": {
      "text/plain": [
       "(61, 83)"
      ]
     },
     "execution_count": 30,
     "metadata": {},
     "output_type": "execute_result"
    }
   ],
   "source": [
    "attr_mat.shape"
   ]
  },
  {
   "cell_type": "code",
   "execution_count": null,
   "metadata": {},
   "outputs": [],
   "source": []
  }
 ],
 "metadata": {
  "kernelspec": {
   "display_name": "Python 3",
   "language": "python",
   "name": "python3"
  },
  "language_info": {
   "codemirror_mode": {
    "name": "ipython",
    "version": 3
   },
   "file_extension": ".py",
   "mimetype": "text/x-python",
   "name": "python",
   "nbconvert_exporter": "python",
   "pygments_lexer": "ipython3",
   "version": "3.7.9"
  }
 },
 "nbformat": 4,
 "nbformat_minor": 4
}
