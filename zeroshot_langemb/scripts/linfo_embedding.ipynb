{
 "cells": [
  {
   "cell_type": "code",
   "execution_count": 21,
   "id": "black-month",
   "metadata": {},
   "outputs": [],
   "source": [
    "%matplotlib inline"
   ]
  },
  {
   "cell_type": "code",
   "execution_count": 22,
   "id": "atomic-principle",
   "metadata": {},
   "outputs": [],
   "source": [
    "import os\n",
    "import numpy as np\n",
    "import json\n",
    "from ipywidgets import interact\n",
    "import matplotlib.pyplot as plt\n",
    "import torch\n",
    "from espnet.asr.pytorch_backend.asr import load_trained_model\n",
    "if 'cd' not in globals():\n",
    "    cd = True\n",
    "    os.chdir('..')\n",
    "import matplotlib\n",
    "matplotlib.use('TkAgg')"
   ]
  },
  {
   "cell_type": "code",
   "execution_count": 26,
   "id": "listed-arrangement",
   "metadata": {},
   "outputs": [
    {
     "name": "stderr",
     "output_type": "stream",
     "text": [
      "WARNING:root:reading model parameters from exp/train_pytorch_wav2vecfexlgcn/results/snapshot.ep.1\n",
      "WARNING:root:idim 512\n",
      "WARNING:root:970 out of 15834 nodes has phoneme\n",
      "WARNING:root:warpctc_length_average False\n",
      "WARNING:root:reading model parameters from exp/train_pytorch_wav2vecfexlgcn/results/snapshot.ep.2\n",
      "WARNING:root:idim 512\n",
      "WARNING:root:970 out of 15834 nodes has phoneme\n",
      "WARNING:root:warpctc_length_average False\n",
      "WARNING:root:reading model parameters from exp/train_pytorch_wav2vecfexlgcn/results/snapshot.ep.3\n",
      "WARNING:root:idim 512\n",
      "WARNING:root:970 out of 15834 nodes has phoneme\n",
      "WARNING:root:warpctc_length_average False\n",
      "WARNING:root:reading model parameters from exp/train_pytorch_wav2vecfexlgcn/results/snapshot.ep.4\n",
      "WARNING:root:idim 512\n",
      "WARNING:root:970 out of 15834 nodes has phoneme\n",
      "WARNING:root:warpctc_length_average False\n",
      "WARNING:root:reading model parameters from exp/train_pytorch_wav2vecfexlgcn/results/snapshot.ep.5\n",
      "WARNING:root:idim 512\n",
      "WARNING:root:970 out of 15834 nodes has phoneme\n",
      "WARNING:root:warpctc_length_average False\n",
      "WARNING:root:reading model parameters from exp/train_pytorch_wav2vecfexlgcn/results/snapshot.ep.6\n",
      "WARNING:root:idim 512\n",
      "WARNING:root:970 out of 15834 nodes has phoneme\n",
      "WARNING:root:warpctc_length_average False\n",
      "WARNING:root:reading model parameters from exp/train_pytorch_wav2vecfexlgcn/results/snapshot.ep.7\n",
      "WARNING:root:idim 512\n",
      "WARNING:root:970 out of 15834 nodes has phoneme\n",
      "WARNING:root:warpctc_length_average False\n",
      "WARNING:root:reading model parameters from exp/train_pytorch_wav2vecfexlgcn/results/snapshot.ep.8\n",
      "WARNING:root:idim 512\n",
      "WARNING:root:970 out of 15834 nodes has phoneme\n",
      "WARNING:root:warpctc_length_average False\n",
      "WARNING:root:reading model parameters from exp/train_pytorch_wav2vecfexlgcn/results/snapshot.ep.9\n",
      "WARNING:root:idim 512\n",
      "WARNING:root:970 out of 15834 nodes has phoneme\n",
      "WARNING:root:warpctc_length_average False\n"
     ]
    }
   ],
   "source": [
    "lembs = []\n",
    "for i in range(1, 10):\n",
    "    model, train_args = load_trained_model(f'exp/train_pytorch_wav2vecfexlgcn/results/snapshot.ep.{i}')\n",
    "    device = torch.device('cuda')\n",
    "    model = model.float()\n",
    "    model = model.to(device)\n",
    "    with torch.no_grad():\n",
    "        lemb = model.lgcn(lang_labels)\n",
    "        lemb = lemb.detach().cpu().numpy()\n",
    "        lembs.append(lemb)"
   ]
  },
  {
   "cell_type": "code",
   "execution_count": 2,
   "id": "adjusted-kelly",
   "metadata": {},
   "outputs": [
    {
     "name": "stderr",
     "output_type": "stream",
     "text": [
      "WARNING:root:reading model parameters from exp/train_pytorch_wav2vecfexlgcn/results/snapshot.ep.9\n",
      "WARNING:root:idim 512\n",
      "WARNING:root:970 out of 15834 nodes has phoneme\n",
      "WARNING:root:warpctc_length_average False\n"
     ]
    }
   ],
   "source": [
    "model, train_args = load_trained_model('exp/train_pytorch_wav2vecfexlgcn/results/snapshot.ep.9')"
   ]
  },
  {
   "cell_type": "code",
   "execution_count": 3,
   "id": "impaired-angle",
   "metadata": {},
   "outputs": [],
   "source": [
    "device = torch.device('cuda')\n",
    "model = model.float()\n",
    "model = model.to(device)"
   ]
  },
  {
   "cell_type": "code",
   "execution_count": 22,
   "id": "institutional-coupon",
   "metadata": {},
   "outputs": [
    {
     "data": {
      "text/plain": [
       "(torch.Size([15834, 425]), 'torch.DoubleTensor')"
      ]
     },
     "execution_count": 22,
     "metadata": {},
     "output_type": "execute_result"
    }
   ],
   "source": [
    "model.lgcn.embedding.size(), model.lgcn.embedding.type()"
   ]
  },
  {
   "cell_type": "code",
   "execution_count": 4,
   "id": "czech-plaza",
   "metadata": {},
   "outputs": [],
   "source": [
    "lang_labels = ['CR', 'PL', 'SP', 'PO', 'TU', 'GE', 'BG', 'TH', 'CH', 'FR', 'CZ', '203', '101', 'N', '404', '402', '307', '206', '107', '103']"
   ]
  },
  {
   "cell_type": "code",
   "execution_count": 5,
   "id": "normal-medication",
   "metadata": {},
   "outputs": [],
   "source": [
    "with torch.no_grad():\n",
    "    lemb = model.lgcn(lang_labels)\n",
    "    lemb = lemb.detach().cpu().numpy()"
   ]
  },
  {
   "cell_type": "code",
   "execution_count": 6,
   "id": "noble-percentage",
   "metadata": {},
   "outputs": [
    {
     "data": {
      "text/plain": [
       "(20, 128)"
      ]
     },
     "execution_count": 6,
     "metadata": {},
     "output_type": "execute_result"
    }
   ],
   "source": [
    "lemb.shape"
   ]
  },
  {
   "cell_type": "code",
   "execution_count": 7,
   "id": "ideal-faith",
   "metadata": {},
   "outputs": [],
   "source": []
  },
  {
   "cell_type": "code",
   "execution_count": 8,
   "id": "senior-charm",
   "metadata": {},
   "outputs": [],
   "source": []
  },
  {
   "cell_type": "code",
   "execution_count": 9,
   "id": "wired-vintage",
   "metadata": {},
   "outputs": [],
   "source": [
    "emb = tsne.fit_transform(lemb)"
   ]
  },
  {
   "cell_type": "code",
   "execution_count": 28,
   "id": "harmful-drink",
   "metadata": {},
   "outputs": [
    {
     "name": "stdout",
     "output_type": "stream",
     "text": [
      "Stored 'embs' (ndarray)\n"
     ]
    }
   ],
   "source": [
    "%store embs"
   ]
  },
  {
   "cell_type": "code",
   "execution_count": 24,
   "id": "metallic-navigation",
   "metadata": {},
   "outputs": [],
   "source": [
    "import pickle as pk"
   ]
  },
  {
   "cell_type": "code",
   "execution_count": 30,
   "id": "chubby-forge",
   "metadata": {},
   "outputs": [],
   "source": [
    "with open('scripts/lgcn_emb.pk', 'wb') as f: \n",
    "    pk.dump([embs, lang_labels], f)"
   ]
  },
  {
   "cell_type": "code",
   "execution_count": null,
   "id": "dried-poultry",
   "metadata": {},
   "outputs": [],
   "source": []
  },
  {
   "cell_type": "code",
   "execution_count": 31,
   "id": "apparent-delay",
   "metadata": {},
   "outputs": [
    {
     "name": "stderr",
     "output_type": "stream",
     "text": [
      "WARNING:root:reading model parameters from exp/train_pytorch_wav2vecfexlemb/results/snapshot.ep.1\n",
      "WARNING:root:idim 512\n",
      "WARNING:root:LangEmb All langs ['101', '103', '107', '203', '206', '307', '402', '404', 'BG', 'CH', 'CR', 'CZ', 'FR', 'GE', 'N', 'PL', 'PO', 'SP', 'TH', 'TU']\n",
      "WARNING:root:warpctc_length_average False\n",
      "WARNING:root:reading model parameters from exp/train_pytorch_wav2vecfexlemb/results/snapshot.ep.2\n",
      "WARNING:root:idim 512\n",
      "WARNING:root:LangEmb All langs ['101', '103', '107', '203', '206', '307', '402', '404', 'BG', 'CH', 'CR', 'CZ', 'FR', 'GE', 'N', 'PL', 'PO', 'SP', 'TH', 'TU']\n",
      "WARNING:root:warpctc_length_average False\n",
      "WARNING:root:reading model parameters from exp/train_pytorch_wav2vecfexlemb/results/snapshot.ep.3\n",
      "WARNING:root:idim 512\n",
      "WARNING:root:LangEmb All langs ['101', '103', '107', '203', '206', '307', '402', '404', 'BG', 'CH', 'CR', 'CZ', 'FR', 'GE', 'N', 'PL', 'PO', 'SP', 'TH', 'TU']\n",
      "WARNING:root:warpctc_length_average False\n",
      "WARNING:root:reading model parameters from exp/train_pytorch_wav2vecfexlemb/results/snapshot.ep.4\n",
      "WARNING:root:idim 512\n",
      "WARNING:root:LangEmb All langs ['101', '103', '107', '203', '206', '307', '402', '404', 'BG', 'CH', 'CR', 'CZ', 'FR', 'GE', 'N', 'PL', 'PO', 'SP', 'TH', 'TU']\n",
      "WARNING:root:warpctc_length_average False\n",
      "WARNING:root:reading model parameters from exp/train_pytorch_wav2vecfexlemb/results/snapshot.ep.5\n",
      "WARNING:root:idim 512\n",
      "WARNING:root:LangEmb All langs ['101', '103', '107', '203', '206', '307', '402', '404', 'BG', 'CH', 'CR', 'CZ', 'FR', 'GE', 'N', 'PL', 'PO', 'SP', 'TH', 'TU']\n",
      "WARNING:root:warpctc_length_average False\n",
      "WARNING:root:reading model parameters from exp/train_pytorch_wav2vecfexlemb/results/snapshot.ep.6\n",
      "WARNING:root:idim 512\n",
      "WARNING:root:LangEmb All langs ['101', '103', '107', '203', '206', '307', '402', '404', 'BG', 'CH', 'CR', 'CZ', 'FR', 'GE', 'N', 'PL', 'PO', 'SP', 'TH', 'TU']\n",
      "WARNING:root:warpctc_length_average False\n",
      "WARNING:root:reading model parameters from exp/train_pytorch_wav2vecfexlemb/results/snapshot.ep.7\n",
      "WARNING:root:idim 512\n",
      "WARNING:root:LangEmb All langs ['101', '103', '107', '203', '206', '307', '402', '404', 'BG', 'CH', 'CR', 'CZ', 'FR', 'GE', 'N', 'PL', 'PO', 'SP', 'TH', 'TU']\n",
      "WARNING:root:warpctc_length_average False\n",
      "WARNING:root:reading model parameters from exp/train_pytorch_wav2vecfexlemb/results/snapshot.ep.8\n",
      "WARNING:root:idim 512\n",
      "WARNING:root:LangEmb All langs ['101', '103', '107', '203', '206', '307', '402', '404', 'BG', 'CH', 'CR', 'CZ', 'FR', 'GE', 'N', 'PL', 'PO', 'SP', 'TH', 'TU']\n",
      "WARNING:root:warpctc_length_average False\n",
      "WARNING:root:reading model parameters from exp/train_pytorch_wav2vecfexlemb/results/snapshot.ep.9\n",
      "WARNING:root:idim 512\n",
      "WARNING:root:LangEmb All langs ['101', '103', '107', '203', '206', '307', '402', '404', 'BG', 'CH', 'CR', 'CZ', 'FR', 'GE', 'N', 'PL', 'PO', 'SP', 'TH', 'TU']\n",
      "WARNING:root:warpctc_length_average False\n"
     ]
    }
   ],
   "source": [
    "lembs = []\n",
    "for i in range(1, 10):\n",
    "    model, train_args = load_trained_model(f'exp/train_pytorch_wav2vecfexlemb/results/snapshot.ep.{i}')\n",
    "    device = torch.device('cuda')\n",
    "    model = model.float()\n",
    "    model = model.to(device)\n",
    "    with torch.no_grad():\n",
    "        lemb = model.lemb(lang_labels)\n",
    "        lemb = lemb.detach().cpu().numpy()\n",
    "        lembs.append(lemb)"
   ]
  },
  {
   "cell_type": "code",
   "execution_count": 34,
   "id": "polyphonic-output",
   "metadata": {},
   "outputs": [],
   "source": [
    "with open('scripts/lemb_emb.pk', 'wb') as f: \n",
    "    pk.dump([np.array(lembs), lang_labels], f)"
   ]
  },
  {
   "cell_type": "code",
   "execution_count": null,
   "id": "requested-terminology",
   "metadata": {},
   "outputs": [],
   "source": []
  },
  {
   "cell_type": "code",
   "execution_count": null,
   "id": "serial-surveillance",
   "metadata": {},
   "outputs": [],
   "source": []
  },
  {
   "cell_type": "code",
   "execution_count": null,
   "id": "placed-coordinator",
   "metadata": {},
   "outputs": [],
   "source": []
  },
  {
   "cell_type": "code",
   "execution_count": null,
   "id": "innocent-partnership",
   "metadata": {},
   "outputs": [],
   "source": []
  }
 ],
 "metadata": {
  "kernelspec": {
   "display_name": "Python 3",
   "language": "python",
   "name": "python3"
  },
  "language_info": {
   "codemirror_mode": {
    "name": "ipython",
    "version": 3
   },
   "file_extension": ".py",
   "mimetype": "text/x-python",
   "name": "python",
   "nbconvert_exporter": "python",
   "pygments_lexer": "ipython3",
   "version": "3.7.9"
  }
 },
 "nbformat": 4,
 "nbformat_minor": 5
}
